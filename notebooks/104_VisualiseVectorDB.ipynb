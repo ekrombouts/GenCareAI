{
  "cells": [
    {
      "cell_type": "markdown",
      "metadata": {
        "colab_type": "text",
        "id": "view-in-github"
      },
      "source": [
        "<a href=\"https://colab.research.google.com/github/ekrombouts/GenCareAI/blob/main/notebooks/104_VisualiseVectorDB.ipynb\" target=\"_parent\"><img src=\"https://colab.research.google.com/assets/colab-badge.svg\" alt=\"Open In Colab\"/></a>"
      ]
    },
    {
      "cell_type": "markdown",
      "metadata": {
        "id": "snVd5y2RbA9E"
      },
      "source": [
        "# Vector DB: T-SNE visualisation\n",
        "\n",
        "**Author:** Eva Rombouts  \n",
        "**Date:** 2024-07-20  \n",
        "**Updated:** 2024-10-14  \n",
        "**Version:** Olympia\n",
        "\n",
        "### Description\n",
        "This script retrieves embeddings and metadata from the Chroma vector database, reduces their dimensionality using t-SNE, and visualizes the results in an interactive plot using Plotly."
      ]
    },
    {
      "cell_type": "code",
      "execution_count": null,
      "metadata": {
        "id": "zYD8M2_xbA9G"
      },
      "outputs": [],
      "source": [
        "!pip install GenCareAIUtils\n",
        "from GenCareAIUtils import GenCareAISetup\n",
        "\n",
        "setup = GenCareAISetup()\n",
        "\n",
        "if setup.environment == 'Colab':\n",
        "    !pip install -q langchain langchain-community langchain_openai chromadb langchain_chroma\n"
      ]
    },
    {
      "cell_type": "code",
      "execution_count": 2,
      "metadata": {
        "id": "ZtsCcPsr49Zc"
      },
      "outputs": [],
      "source": [
        "import numpy as np\n",
        "import random\n",
        "import plotly.express as px\n",
        "import pandas as pd\n",
        "from tqdm import tqdm\n",
        "from sklearn.manifold import TSNE\n",
        "from langchain_chroma import Chroma\n",
        "from langchain_openai import OpenAIEmbeddings"
      ]
    },
    {
      "cell_type": "code",
      "execution_count": 3,
      "metadata": {
        "id": "xuUiZi8T49Zc"
      },
      "outputs": [],
      "source": [
        "# Initialize Chroma vector database\n",
        "vectordb = Chroma(persist_directory=setup.get_file_path('data/chroma_db_gcai'),\n",
        "                  embedding_function=OpenAIEmbeddings(api_key=setup.get_openai_key(), model='text-embedding-ada-002'),\n",
        "                  collection_name = 'Olympia'\n",
        "                  )"
      ]
    },
    {
      "cell_type": "code",
      "execution_count": 4,
      "metadata": {
        "id": "SA8iWxKE49Zd"
      },
      "outputs": [],
      "source": [
        "# Extract embeddings and metadata from the vectordb\n",
        "def get_embeddings_and_metadata(vectordb):\n",
        "    items = vectordb.get(include=['embeddings', 'metadatas', 'documents'])\n",
        "    embeddings = items['embeddings']\n",
        "    metadata = items['metadatas']\n",
        "    documents = items['documents']\n",
        "    return embeddings, metadata, documents\n",
        "\n",
        "embeddings, metadata, documents = get_embeddings_and_metadata(vectordb)"
      ]
    },
    {
      "cell_type": "code",
      "execution_count": 5,
      "metadata": {
        "id": "I5mTcN1649Zd"
      },
      "outputs": [],
      "source": [
        "def sample_embeddings(embeddings, metadata, documents, sample_size=100):\n",
        "    indices = random.sample(range(len(embeddings)), sample_size)\n",
        "    sampled_embeddings = embeddings[indices]\n",
        "    sampled_metadata = [metadata[i] for i in indices]\n",
        "    sampled_documents = [documents[i] for i in indices]\n",
        "    return sampled_embeddings, sampled_metadata, sampled_documents\n",
        "\n",
        "sampled_embeddings, sampled_metadata, sampled_documents = sample_embeddings(np.array(embeddings), metadata, documents)"
      ]
    },
    {
      "cell_type": "code",
      "execution_count": null,
      "metadata": {
        "id": "qpjOAJm07UnH"
      },
      "outputs": [],
      "source": [
        "# Dimensionality reduction with t-SNE with progress bar\n",
        "def reduce_dimensions(embeddings):\n",
        "    tsne = TSNE(n_components=2, random_state=6, verbose=1)\n",
        "    reduced_embeddings = tsne.fit_transform(embeddings)\n",
        "    return reduced_embeddings\n",
        "\n",
        "# Add progress bar\n",
        "embeddings_array = np.array(sampled_embeddings)\n",
        "with tqdm(total=1) as pbar:\n",
        "    reduced_embeddings = reduce_dimensions(embeddings_array)\n",
        "    pbar.update(1)"
      ]
    },
    {
      "cell_type": "code",
      "execution_count": null,
      "metadata": {
        "id": "SyxspjmMAYQZ"
      },
      "outputs": [],
      "source": [
        "# Create an interactive plot with Plotly\n",
        "def create_interactive_plot(reduced_embeddings, metadata, documents):\n",
        "    df = pd.DataFrame(reduced_embeddings, columns=['x', 'y'])\n",
        "    df['text'] = documents\n",
        "\n",
        "    # Unpack metadata column into separate columns and combine with the original DataFrame\n",
        "    df = df.join(pd.DataFrame(metadata))\n",
        "\n",
        "    fig = px.scatter(df, x='x', y='y', hover_data=['text', 'category'], color='category',\n",
        "                     title='t-SNE Visualization of VectorDB',\n",
        "                     labels={'category': 'Category'},\n",
        "                     color_discrete_sequence=px.colors.qualitative.Plotly)  # Gebruik een preset kleurenpalet\n",
        "\n",
        "    fig.update_layout(xaxis_title='t-SNE x', yaxis_title='t-SNE y')\n",
        "    fig.show()\n",
        "\n",
        "create_interactive_plot(reduced_embeddings, sampled_metadata, sampled_documents)"
      ]
    },
    {
      "cell_type": "code",
      "execution_count": null,
      "metadata": {
        "id": "A4MRpBx4bA9H"
      },
      "outputs": [],
      "source": []
    }
  ],
  "metadata": {
    "colab": {
      "include_colab_link": true,
      "provenance": []
    },
    "kernelspec": {
      "display_name": "gcai",
      "language": "python",
      "name": "python3"
    },
    "language_info": {
      "codemirror_mode": {
        "name": "ipython",
        "version": 3
      },
      "file_extension": ".py",
      "mimetype": "text/x-python",
      "name": "python",
      "nbconvert_exporter": "python",
      "pygments_lexer": "ipython3",
      "version": "3.12.7"
    }
  },
  "nbformat": 4,
  "nbformat_minor": 0
}
