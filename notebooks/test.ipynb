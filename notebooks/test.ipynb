{
 "cells": [
  {
   "cell_type": "code",
   "execution_count": 2,
   "metadata": {},
   "outputs": [],
   "source": [
    "!wget -q https://raw.githubusercontent.com/ekrombouts/GenCareAI/feature/package-creation/GenCareAIUtils.py\n",
    "\n",
    "from GenCareAIUtils import GenCareAISetup\n",
    "\n",
    "# Instantieer de setup class\n",
    "setup = GenCareAISetup()"
   ]
  },
  {
   "cell_type": "code",
   "execution_count": 3,
   "metadata": {},
   "outputs": [
    {
     "name": "stdout",
     "output_type": "stream",
     "text": [
      "Base directory is set to: /Users/eva/Library/CloudStorage/GoogleDrive-e.k.rombouts@gmail.com/My Drive/Colab Notebooks/GenCareAI\n",
      "Full file path: /Users/eva/Library/CloudStorage/GoogleDrive-e.k.rombouts@gmail.com/My Drive/Colab Notebooks/GenCareAI/data/my_file.csv\n",
      "OpenAI API Key set\n",
      "Hugging Face Token set\n"
     ]
    }
   ],
   "source": [
    "\n",
    "# Stel de directory in als je bestanden wilt opslaan of laden\n",
    "base_dir = setup.base_dir\n",
    "print(f\"Base directory is set to: {base_dir}\")\n",
    "\n",
    "# Test het ophalen van een bestandspad\n",
    "file_path = setup.get_file_path('data/my_file.csv')\n",
    "print(f\"Full file path: {file_path}\")\n",
    "\n",
    "# Test het ophalen van de OpenAI API key\n",
    "openai_key = setup.get_openai_key()\n",
    "print(\"OpenAI API Key set\")\n",
    "\n",
    "# Test het ophalen van de Hugging Face token\n",
    "hf_token = setup.get_hf_token()\n",
    "print(\"Hugging Face Token set\")"
   ]
  },
  {
   "cell_type": "code",
   "execution_count": 4,
   "metadata": {},
   "outputs": [],
   "source": [
    "fn_notes = setup.get_file_path('data/gcai_client_notes_Tulip.csv')\n",
    "import pandas as pd\n",
    "aap = pd.read_csv(fn_notes)"
   ]
  },
  {
   "cell_type": "code",
   "execution_count": 5,
   "metadata": {},
   "outputs": [
    {
     "name": "stdout",
     "output_type": "stream",
     "text": [
      "<class 'pandas.core.frame.DataFrame'>\n",
      "RangeIndex: 5979 entries, 0 to 5978\n",
      "Data columns (total 6 columns):\n",
      " #   Column      Non-Null Count  Dtype \n",
      "---  ------      --------------  ----- \n",
      " 0   client_id   5979 non-null   int64 \n",
      " 1   month       5979 non-null   int64 \n",
      " 2   iteration   5979 non-null   int64 \n",
      " 3   dag         5979 non-null   int64 \n",
      " 4   tijd        5979 non-null   object\n",
      " 5   rapportage  5979 non-null   object\n",
      "dtypes: int64(4), object(2)\n",
      "memory usage: 280.4+ KB\n"
     ]
    }
   ],
   "source": [
    "aap.info()"
   ]
  },
  {
   "cell_type": "code",
   "execution_count": null,
   "metadata": {},
   "outputs": [],
   "source": []
  }
 ],
 "metadata": {
  "kernelspec": {
   "display_name": "gcai2",
   "language": "python",
   "name": "python3"
  },
  "language_info": {
   "codemirror_mode": {
    "name": "ipython",
    "version": 3
   },
   "file_extension": ".py",
   "mimetype": "text/x-python",
   "name": "python",
   "nbconvert_exporter": "python",
   "pygments_lexer": "ipython3",
   "version": "3.10.12"
  }
 },
 "nbformat": 4,
 "nbformat_minor": 2
}
