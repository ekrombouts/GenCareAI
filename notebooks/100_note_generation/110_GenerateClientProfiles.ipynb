{
  "cells": [
    {
      "cell_type": "markdown",
      "metadata": {
        "colab_type": "text",
        "id": "view-in-github"
      },
      "source": [
        "<a href=\"https://colab.research.google.com/github/ekrombouts/GenCareAI/blob/main/notebooks/100_note_generation/110_GenerateClientProfiles.ipynb\" target=\"_parent\"><img src=\"https://colab.research.google.com/assets/colab-badge.svg\" alt=\"Open In Colab\"/></a>"
      ]
    },
    {
      "cell_type": "markdown",
      "metadata": {
        "id": "NOKGyZin9teK"
      },
      "source": [
        "# GenCare AI: Generating client profiles\n",
        "\n",
        "**Author:** Eva Rombouts  \n",
        "**Date:** 2024-06-01  \n",
        "**Updated:** 2024-10-10  \n",
        "**Version:** 2.0\n",
        "\n",
        "### Description\n",
        "In [a previous notebook](https://colab.research.google.com/github/ekrombouts/GenCareAI/blob/main/notebooks/100_note_generation/100_GenerateAnonymousCareNotes.ipynb) we created a dataset with synthetic progress notes for nursing home clients. In the following notebooks, we will be populating a fictional nursing home with clients by generating client profiles and scenarios to ultimately build client records, consisting of a series of progress notes, documenting the day-to-day care of each client.\n",
        "\n",
        "Our goal is to mimic real-world client records, where profiles and scenarios aren’t always clearly stated but must be read between the lines, inferred from the progress notes, which are often vague yet detailed.\n",
        "\n",
        "This notebook automates the generation of fictional client profiles for a psychogeriatric ward in a nursing home using GPT-4o. The profiles describe aspects like dementia type, physical complaints, ADL (activities of daily living) support, mobility, and behavior.\n",
        "\n",
        "- Here we use GPT-4o, as it provides better and more diverse results than GPT-3.\n",
        "- The temperature is set to 1.1 to encourage variation in the output.\n",
        "- The ward name and the number of wings are defined to facilitate running multiple experiments. For instance, different ward names can be assigned for each experiment to distinguish between them. The number of wings is set because generating 8 profiles per prompt is believed to be the maximum manageable amount in a single prompt.\n",
        "- Pydantic Models: Two Pydantic models are defined to ensure the structure of the generated client profiles.\n",
        "  - The ClientProfile model includes fields like name, dementia type, physical complaints, ADL support, mobility, and behavior.\n",
        "  - The ClientProfiles model holds multiple client profiles.\n",
        "\n",
        "With the current settings of generating eight profiles per query and running the query three times, the cost is approximately $0.05 per run."
      ]
    },
    {
      "cell_type": "code",
      "execution_count": null,
      "metadata": {
        "id": "CShB1ZlNBXJL"
      },
      "outputs": [],
      "source": [
        "!pip install GenCareAI\n",
        "from GenCareAI.GenCareAIUtils import GenCareAISetup\n",
        "\n",
        "setup = GenCareAISetup()\n",
        "\n",
        "if setup.environment == 'Colab':\n",
        "  !pip install -q -U langchain langchain_core langchain_openai langchain_community"
      ]
    },
    {
      "cell_type": "code",
      "execution_count": null,
      "metadata": {
        "id": "qke9UwhUFE5z"
      },
      "outputs": [],
      "source": [
        "import os\n",
        "import pandas as pd\n",
        "from typing import List\n",
        "from langchain.output_parsers import PydanticOutputParser\n",
        "from langchain_core.prompts import PromptTemplate\n",
        "from pydantic import BaseModel, Field\n",
        "from langchain_openai import ChatOpenAI\n",
        "from langchain_community.callbacks import get_openai_callback"
      ]
    },
    {
      "cell_type": "code",
      "execution_count": null,
      "metadata": {
        "id": "6U8-agi-oC9w"
      },
      "outputs": [],
      "source": [
        "# Constants and Configurations\n",
        "# The ward name will be used in the filename. Practical when performing multiple\n",
        "# experiments\n",
        "ward_name = 'Dahlia'\n",
        "fn_profiles =  setup.get_file_path(f'data/gcai_client_profiles_{ward_name}.csv')\n",
        "# Per query eight profiles are generated. The query is run num_wings times, so\n",
        "# when num_wings is set to 3 the total number of client profiles generated is 24.\n",
        "num_wings = 3\n",
        "# GPT-4o yields better, more diverse results than gpt-3.5\n",
        "model_name = 'gpt-4o-2024-05-13'\n",
        "temp = 1.1\n",
        "verbose = True"
      ]
    },
    {
      "cell_type": "code",
      "execution_count": null,
      "metadata": {
        "id": "quwsQty8j5Fo"
      },
      "outputs": [],
      "source": [
        "# Definition of Pydantic model to structure the client profile data\n",
        "class ClientProfile(BaseModel):\n",
        "    naam: str = Field(description=\"naam van de client (Meneer/Mevrouw Voornaam Achternaam, gebruik een naam die je normaal niet zou kiezen)\")\n",
        "    type_dementie: str = Field(description=\"type dementie (Alzheimer, gemengde dementie, vasculaire dementie, lewy body dementie, parkinsondementie, FTD: varieer, de kans op Alzheimer, gemengde en vasculaire dementie is het grootst)\")\n",
        "    somatiek: str = Field(description=\"lichamelijke klachten\")\n",
        "    # biografie: str = Field(description=\"een korte beschrijving van karakter en relevante biografische gegevens (vermijd stereotypen in beroep en achtergrond)\")\n",
        "    adl: str = Field(description=\"beschrijf welke ADL hulp de cliënt nodig heeft\")\n",
        "    mobiliteit: str = Field(description=\"beschrijf de mobiliteit (bv rolstoelafhankelijk, gebruik rollator, valgevaar)\")\n",
        "    gedrag: str = Field(description=\"beschrijf voor de zorg relevante aspecten van cognitie en probleemgedrag. Varieer met de ernst van het probleemgedrag van rustige cliënten, gemiddeld onrustige cliënten tot cliënten die fors apathisch, onrustig, angstig, geagiteerd of zelfs agressief kunnen zijn\")\n",
        "\n",
        "# Pydantic model to hold multiple client profiles\n",
        "class ClientProfiles(BaseModel):\n",
        "    clients: List[ClientProfile]"
      ]
    },
    {
      "cell_type": "code",
      "execution_count": null,
      "metadata": {
        "id": "Y1sD0rHaBXJP"
      },
      "outputs": [],
      "source": [
        "# Initialize OpenAI model and parser\n",
        "model= ChatOpenAI(api_key=setup.get_openai_key(), temperature=temp, model=model_name)\n",
        "pyd_parser = PydanticOutputParser(pydantic_object=ClientProfiles)\n",
        "format_instructions = pyd_parser.get_format_instructions()"
      ]
    },
    {
      "cell_type": "code",
      "execution_count": null,
      "metadata": {
        "id": "O0eCENdbBXJQ"
      },
      "outputs": [],
      "source": [
        "template = \"\"\"\n",
        "Schrijf acht profielen van cliënten die zijn opgenomen op een psychogeriatrische afdeling van het verpleeghuis. Hier wonen mensen met een gevorderde dementie met een hoge zorgzwaarte.\n",
        "Zorg dat de profielen erg van elkaar verschillen.\n",
        "\n",
        "{format_instructions}\n",
        "\"\"\"\n",
        "\n",
        "prompt_template = PromptTemplate(\n",
        "    template = template,\n",
        "    input_variables=[],\n",
        "    partial_variables={\"format_instructions\": format_instructions},\n",
        ")\n",
        "\n",
        "if verbose: print(prompt_template.format())"
      ]
    },
    {
      "cell_type": "code",
      "execution_count": null,
      "metadata": {
        "id": "gGNE_YokmQNq"
      },
      "outputs": [],
      "source": [
        "# Combine the prompt, model, and parser into a single chain\n",
        "chain = prompt_template | model | pyd_parser"
      ]
    },
    {
      "cell_type": "code",
      "execution_count": null,
      "metadata": {
        "id": "XSNu7vcqmQNq"
      },
      "outputs": [],
      "source": [
        "# Check if the file with client profiles exists\n",
        "if not os.path.exists(fn_profiles):\n",
        "    print(\"Data file not found. Generating new data...\")\n",
        "\n",
        "    # Create directories if they do not exist\n",
        "    os.makedirs(os.path.dirname(fn_profiles), exist_ok=True)\n",
        "\n",
        "    # Function to generate client profile data by querying the model\n",
        "    def generate_data():\n",
        "        all_data = []\n",
        "        for i in range(num_wings):\n",
        "            print(f'Generating data for wing {i+1}')\n",
        "            # Generate client profiles for each wing\n",
        "            result = chain.invoke({})\n",
        "            # Check if the result contains valid data\n",
        "            if result is None or not hasattr(result, 'clients'):\n",
        "                raise ValueError(\"No valid response received from the model.\")\n",
        "            # Convert profiles to a list of dictionaries\n",
        "            data = [client.dict() for client in result.clients]\n",
        "            # Append data for all wings\n",
        "            all_data.extend(data)\n",
        "        # Convert to pandas df\n",
        "        return pd.DataFrame(all_data)\n",
        "\n",
        "    # Function to add a unique client ID to each profile and reorder columns\n",
        "    def add_client_id(df):\n",
        "        df['client_id'] = range(1, len(df) + 1)\n",
        "        return df[['client_id', 'naam', 'type_dementie', 'somatiek', 'adl', 'mobiliteit', 'gedrag']]\n",
        "\n",
        "    # Use OpenAI callback to monitor API usage\n",
        "    with get_openai_callback() as cb:\n",
        "        df = generate_data()\n",
        "        print(\"Data generated successfully.\\n\")\n",
        "        print(cb)\n",
        "\n",
        "    # Add client ID and save the data to a CSV file\n",
        "    df_with_id = add_client_id(df)\n",
        "    df_with_id.to_csv(fn_profiles, index=False)\n",
        "    print(f\"Data saved successfully to {fn_profiles}.\")\n",
        "else:\n",
        "    # If the file exists, load the data from the CSV file\n",
        "    print(\"Data file found. Loading data...\")\n",
        "    df_with_id = pd.read_csv(fn_profiles)"
      ]
    },
    {
      "cell_type": "code",
      "execution_count": null,
      "metadata": {
        "id": "tyAQ6ZoFf6At"
      },
      "outputs": [],
      "source": []
    }
  ],
  "metadata": {
    "colab": {
      "include_colab_link": true,
      "provenance": []
    },
    "kernelspec": {
      "display_name": "gcai",
      "language": "python",
      "name": "python3"
    },
    "language_info": {
      "codemirror_mode": {
        "name": "ipython",
        "version": 3
      },
      "file_extension": ".py",
      "mimetype": "text/x-python",
      "name": "python",
      "nbconvert_exporter": "python",
      "pygments_lexer": "ipython3",
      "version": "3.11.9"
    }
  },
  "nbformat": 4,
  "nbformat_minor": 0
}
