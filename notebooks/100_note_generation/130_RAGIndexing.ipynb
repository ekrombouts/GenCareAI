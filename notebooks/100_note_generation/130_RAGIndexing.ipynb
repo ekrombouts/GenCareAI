{
  "cells": [
    {
      "cell_type": "markdown",
      "metadata": {},
      "source": [
        "<a href=\"https://colab.research.google.com/github/ekrombouts/GenCareAI/blob/main/scripts/100_note_generation/130_RAGIndexing.ipynb\" target=\"_parent\"><img src=\"https://colab.research.google.com/assets/colab-badge.svg\" alt=\"Open In Colab\"/></a>"
      ]
    },
    {
      "cell_type": "markdown",
      "metadata": {
        "id": "y_63aAoRXj07"
      },
      "source": [
        "# GenCare AI: Retrieval Augmented Generation of care notes\n",
        "\n",
        "**Author:** Eva Rombouts  \n",
        "**Date:** 2024-06-03  \n",
        "**Updated:** 2024-07-01  \n",
        "**Version:** 1.2\n",
        "\n",
        "### Description\n",
        "In this script the anonymous client notes generated [here](https://github.com/ekrombouts/GenCareAI/blob/main/scripts/100_GenerateAnonymousCareNotes.ipynb) are processed and stored in a vector database (Chroma). It enables querying of the database using OpenAI's embeddings and a retrieval-augmented generation system.\n",
        "\n",
        "*Document Loading and Processing*: Documents are loaded from the Hugging Face platform, split into smaller sections by a LangChain Text Splitter, and pre-processed. The notes are split into smaller chunks, even though this probably was not necessary for this dataset. This step was taken for completeness to ensure scalability in the future.  \n",
        "*Database Initialization and Population*: A Chroma vector database is initialized and populated it with the embedded document chunks.  \n",
        "*Query Operations*: The RetrievalQA pipeline let's us search the database using natural language queries, demonstrating the capability to retrieve and display relevant information.\n",
        "\n",
        "### Goal\n",
        "My goal is to use this vector database to retrieve relevant examples for few-shot inference in prompts for creating synthetic client notes. This approach can help me improve the generation of this data by providing specific, contextually relevant examples that guide the model's results.\n",
        "\n",
        "### Setup and configuration\n",
        "- When running in CoLab Google Drive is mounted to persistently store the Chroma vector database.\n",
        "- Retrieve API keys for OpenAI and HuggingFace, providing authentication for accessing the [embedding model](https://platform.openai.com/docs/guides/embeddings), the [QA model](https://platform.openai.com/docs/models) and the [dataset](https://huggingface.co/datasets/ekrombouts/dutch_nursing_home_reports). \n",
        "\n",
        "### Recommended Resources\n",
        "- [RAG - Retrieval Augmented Generation](https://www.youtube.com/playlist?list=PL8motc6AQftn-X1HkaGG9KjmKtWImCKJS) with Sam Witteveen on YouTube\n",
        "- [Python RAG Tutorial (with Local LLMs)](https://www.youtube.com/watch?v=2TJxpyO3ei4&t=323s) by Pixegami on YouTube\n",
        "- And of course the [Langchain documentation](https://python.langchain.com/v0.1/docs/use_cases/question_answering/)\n",
        "\n",
        "***Please note*** that the embedding isn't free. Embedding the 35.000+ notes costs appr $0.15. The costs for the examples of querying the database in this notebook are negligible.\n",
        "\n",
        "Version 1.2: Term 'reports' changed to 'notes'"
      ]
    },
    {
      "cell_type": "code",
      "execution_count": 1,
      "metadata": {},
      "outputs": [],
      "source": [
        "import os\n",
        "# Determines the current environment (Google Colab or local)\n",
        "def check_environment():\n",
        "    try:\n",
        "        import google.colab\n",
        "        return \"Google Colab\"\n",
        "    except ImportError:\n",
        "        pass\n",
        "\n",
        "    return \"Local Environment\""
      ]
    },
    {
      "cell_type": "code",
      "execution_count": 2,
      "metadata": {},
      "outputs": [
        {
          "name": "stdout",
          "output_type": "stream",
          "text": [
            "Running in Local Environment\n"
          ]
        }
      ],
      "source": [
        "# Installs and settings depending on the environment\n",
        "# When running in CoLab, the Google drive is mounted and necessary packages are installed.\n",
        "# Data paths are set and API keys retrieved\n",
        "\n",
        "env = check_environment()\n",
        "\n",
        "if env == \"Google Colab\":\n",
        "    print(\"Running in Google Colab\")\n",
        "    !pip install -q langchain langchain-openai langchain-community chromadb datasets langchain-chroma\n",
        "    from google.colab import drive, userdata\n",
        "    drive.mount('/content/drive')\n",
        "    os.chdir('/content/drive/My Drive/Colab Notebooks/GenCareAI/scripts')\n",
        "    OPENAI_API_KEY = userdata.get('GCI_OPENAI_API_KEY')\n",
        "    HF_TOKEN = userdata.get('HF_TOKEN')\n",
        "else:\n",
        "    print(\"Running in Local Environment\")\n",
        "    # !pip install -q chromadb datasets langchain-chroma\n",
        "    from dotenv import load_dotenv\n",
        "    load_dotenv()\n",
        "    OPENAI_API_KEY = os.getenv('GCI_OPENAI_API_KEY')\n",
        "    HF_TOKEN = os.getenv('HF_TOKEN')"
      ]
    },
    {
      "cell_type": "code",
      "execution_count": 3,
      "metadata": {
        "id": "nxPS7wYjrugf"
      },
      "outputs": [],
      "source": [
        "# Import necessary modules from Langchain and Hugging Face\n",
        "import pandas as pd\n",
        "# from langchain.vectorstores import Chroma\n",
        "from langchain_chroma import Chroma\n",
        "from langchain_openai import OpenAIEmbeddings, OpenAI\n",
        "from langchain_community.document_loaders import HuggingFaceDatasetLoader, DataFrameLoader\n",
        "from langchain.text_splitter import RecursiveCharacterTextSplitter\n",
        "from langchain.schema.document import Document\n",
        "from langchain.chains import RetrievalQA\n",
        "from pprint import pprint"
      ]
    },
    {
      "cell_type": "code",
      "execution_count": 4,
      "metadata": {
        "id": "YCGSQTBMrzxT"
      },
      "outputs": [],
      "source": [
        "# Constants for dataset and storage paths\n",
        "PATH_DATASET = '../../data/gcai_notes.csv' # Or use the HuggingFace dataset: 'ekrombouts/dutch_nursing_home_notes'\n",
        "PATH_DB_GCAI = '../../data/chroma_db_gcai_notes'\n",
        "COLLECTION_NAME = 'anonymous_notes'\n",
        "MODEL = 'text-embedding-ada-002'"
      ]
    },
    {
      "cell_type": "markdown",
      "metadata": {
        "id": "tILbjl3zuQI8"
      },
      "source": [
        "### Functions"
      ]
    },
    {
      "cell_type": "code",
      "execution_count": 5,
      "metadata": {
        "id": "l29SPKZNsfuN"
      },
      "outputs": [],
      "source": [
        "def load_documents(path):\n",
        "    \"\"\"Load the dataset either from Hugging Face or a local CSV file based on the path provided.\"\"\"\n",
        "    \n",
        "    try:\n",
        "        # Try to load the Hugging Face dataset       \n",
        "        loader = HuggingFaceDatasetLoader(path, page_content_column='note', use_auth_token=HF_TOKEN)\n",
        "        return loader.load()\n",
        "    \n",
        "    except Exception:\n",
        "        # If loading as a Hugging Face dataset fails, assume it's a CSV file        \n",
        "        df = pd.read_csv(path)\n",
        "        loader = DataFrameLoader(df, page_content_column='note')\n",
        "        return loader.load()"
      ]
    },
    {
      "cell_type": "code",
      "execution_count": 6,
      "metadata": {
        "id": "QCRJwVFXuyE9"
      },
      "outputs": [],
      "source": [
        "def split_documents(documents: list[Document]):\n",
        "  \"\"\"Split large text documents into manageable chunks for better handling by ML models.\"\"\"\n",
        "  text_splitter = RecursiveCharacterTextSplitter(\n",
        "      chunk_size=800,\n",
        "      chunk_overlap=100)\n",
        "  chunks = text_splitter.split_documents(documents)\n",
        "  # Index each chunk to maintain unique identifiers\n",
        "  for idx, chunk in enumerate(chunks):\n",
        "      chunk.metadata['id'] = str(idx)\n",
        "  return chunks"
      ]
    },
    {
      "cell_type": "code",
      "execution_count": 7,
      "metadata": {
        "id": "NZKYyBXp7iTp"
      },
      "outputs": [],
      "source": [
        "def initialize_vectordb(persist_directory, embedding_function, collection_name):\n",
        "    \"\"\"Initialize the Chroma vector database, either loading an existing one or creating a new one.\"\"\"\n",
        "    if os.path.exists(persist_directory):\n",
        "        return Chroma(persist_directory=persist_directory,\n",
        "                      embedding_function=embedding_function,\n",
        "                      collection_name=collection_name)\n",
        "    else:\n",
        "        return Chroma(embedding_function=embedding_function,\n",
        "                      persist_directory=persist_directory,\n",
        "                      collection_name=collection_name)\n"
      ]
    },
    {
      "cell_type": "code",
      "execution_count": 8,
      "metadata": {
        "id": "wild1x4IpGYa"
      },
      "outputs": [],
      "source": [
        "def load_existing_ids(vectordb):\n",
        "    \"\"\"Fetch existing document IDs from the database to avoid duplicates.\"\"\"\n",
        "    try:\n",
        "        existing_items = vectordb.get(include=[])\n",
        "        existing_ids = set(existing_items[\"ids\"])\n",
        "    except:\n",
        "        existing_ids = set()\n",
        "    return existing_ids"
      ]
    },
    {
      "cell_type": "code",
      "execution_count": 9,
      "metadata": {
        "id": "4Psz5WVXpope"
      },
      "outputs": [],
      "source": [
        "# Modified from https://github.com/pixegami/rag-tutorial-v2/blob/main/populate_database.py\n",
        "def add_new_documents(vectordb, documents):\n",
        "    \"\"\"Add new documents to the database only if they don't already exist.\"\"\"\n",
        "    existing_ids = load_existing_ids(vectordb)\n",
        "    print(f\"Number of existing documents in DB: {len(existing_ids)}\")\n",
        "    # Only add documents that don't exist in the DB.\n",
        "    new_documents = []\n",
        "    for document in documents:\n",
        "        if document.metadata[\"id\"] not in existing_ids:\n",
        "            new_documents.append(document)\n",
        "    if len(new_documents):\n",
        "        print(f\"Adding new documents: {len(new_documents)}\")\n",
        "        new_document_ids = [document.metadata[\"id\"] for document in new_documents]\n",
        "        vectordb.add_documents(new_documents, ids=new_document_ids)\n",
        "    else:\n",
        "        print(\"No new documents to add\")\n"
      ]
    },
    {
      "cell_type": "markdown",
      "metadata": {
        "id": "LK31hG7c1T6o"
      },
      "source": [
        "### Embed and store texts"
      ]
    },
    {
      "cell_type": "code",
      "execution_count": 10,
      "metadata": {
        "id": "REruMCsLyNoL"
      },
      "outputs": [
        {
          "name": "stderr",
          "output_type": "stream",
          "text": [
            "/Users/eva/anaconda3/envs/gcai2/lib/python3.12/site-packages/tqdm/auto.py:21: TqdmWarning: IProgress not found. Please update jupyter and ipywidgets. See https://ipywidgets.readthedocs.io/en/stable/user_install.html\n",
            "  from .autonotebook import tqdm as notebook_tqdm\n",
            "/Users/eva/anaconda3/envs/gcai2/lib/python3.12/site-packages/datasets/load.py:2566: FutureWarning: 'use_auth_token' was deprecated in favor of 'token' in version 2.14.0 and will be removed in 3.0.0.\n",
            "You can remove this warning by passing 'token=<use_auth_token>' instead.\n",
            "  warnings.warn(\n"
          ]
        },
        {
          "name": "stdout",
          "output_type": "stream",
          "text": [
            "8690\n",
            "8723\n"
          ]
        }
      ],
      "source": [
        "# Load, split and process documents\n",
        "documents = load_documents(path=PATH_DATASET)\n",
        "chunks = split_documents(documents=documents)\n",
        "\n",
        "# # Consider experimenting with a smaller dataset\n",
        "# # For large datasets you might need to split it in two\n",
        "# documents_sample = documents[:20000]\n",
        "# chunks = split_documents(documents=documents_sample)\n",
        "\n",
        "print(len(documents))\n",
        "print(len(chunks))"
      ]
    },
    {
      "cell_type": "code",
      "execution_count": 13,
      "metadata": {
        "id": "2MFHbqkV9eIz"
      },
      "outputs": [],
      "source": [
        "# Initialize vector database, using OpenAI embeddings\n",
        "embedding = OpenAIEmbeddings(api_key=OPENAI_API_KEY, model=MODEL)\n",
        "vectordb = initialize_vectordb(PATH_DB_GCAI, embedding, COLLECTION_NAME)\n",
        "\n",
        "# If you get an error, run this cell again.(TODO fix it)"
      ]
    },
    {
      "cell_type": "code",
      "execution_count": 14,
      "metadata": {
        "id": "vrk3uLoB93g4"
      },
      "outputs": [
        {
          "name": "stdout",
          "output_type": "stream",
          "text": [
            "Number of existing documents in DB: 8723\n",
            "No new documents to add\n"
          ]
        }
      ],
      "source": [
        "# # Add new documents to the database\n",
        "# def add_documents_in_batches(vectordb, documents, batch_size=1000):\n",
        "#     \"\"\"Add documents to the vector database in batches.\"\"\"\n",
        "#     for i in range(0, len(documents), batch_size):\n",
        "#         batch = documents[i:i + batch_size]\n",
        "#         add_new_documents(vectordb, batch)\n",
        "\n",
        "# add_documents_in_batches(vectordb, chunks)\n",
        "\n",
        "add_new_documents(vectordb, chunks)"
      ]
    },
    {
      "cell_type": "markdown",
      "metadata": {
        "id": "56otpzQ509Lu"
      },
      "source": [
        "### Query the database"
      ]
    },
    {
      "cell_type": "code",
      "execution_count": null,
      "metadata": {
        "id": "tuGkHJ26AhVs"
      },
      "outputs": [],
      "source": [
        "## To read the db from file\n",
        "\n",
        "# vectordb = Chroma(persist_directory=FN_DB_GCAI,\n",
        "#                   embedding_function=OpenAIEmbeddings(api_key=OPENAI_API_KEY, model=MODEL),\n",
        "#                   collection_name = COLLECTION_NAME\n",
        "#                   )"
      ]
    },
    {
      "cell_type": "code",
      "execution_count": null,
      "metadata": {
        "id": "WVUpJYDt2eNQ"
      },
      "outputs": [],
      "source": [
        "# Delete all items in the db\n",
        "\n",
        "# items = vectordb.get(include=[])\n",
        "# existing_ids = items[\"ids\"]\n",
        "# vectordb.delete(ids=existing_ids)"
      ]
    },
    {
      "cell_type": "code",
      "execution_count": 15,
      "metadata": {
        "id": "cOkFn9g_-XSZ"
      },
      "outputs": [
        {
          "name": "stdout",
          "output_type": "stream",
          "text": [
            "Number of existing documents in DB: 8723\n",
            "{'id': '0', 'topic': 'ADL'}\n"
          ]
        }
      ],
      "source": [
        "# Retrieve metadata and document IDs from the database\n",
        "items = vectordb.get(include=['metadatas'])\n",
        "existing_ids = set(items[\"ids\"])\n",
        "metadata = items['metadatas']\n",
        "print(f\"Number of existing documents in DB: {len(existing_ids)}\")\n",
        "print(metadata[0])"
      ]
    },
    {
      "cell_type": "code",
      "execution_count": 16,
      "metadata": {
        "id": "tEQfxXps_D0x"
      },
      "outputs": [],
      "source": [
        "# Set up a retriever for document querying\n",
        "retriever = vectordb.as_retriever(search_kwargs={\"k\": 4})"
      ]
    },
    {
      "cell_type": "code",
      "execution_count": 17,
      "metadata": {
        "id": "ZOLn6rsX-k7m"
      },
      "outputs": [
        {
          "name": "stdout",
          "output_type": "stream",
          "text": [
            "Number of docs: 4\n",
            "\n",
            "Retriever search type: similarity\n",
            "\n",
            "Documents most similar to \"gewichtsverlies\":\n",
            "Dringend overleg nodig met diëtist over voedingsaanpassingen dhr., ongewenst gewichtsverlies geconstateerd\n",
            "Familie van Mevrouw bezorgd over haar gewichtsverlies. Overlegd met voedingsassistente voor verrijkte voedingssupplementen en extra observationele check-ups.\n",
            "Familie van mevr spreekt zorgen uit over haar gewichtsverlies. Graag gewichtsmonitoring intensiveren en dieetvoorschriften herzien.\n",
            "Familie van mevr meldt zorgen over gewichtsverlies, aandacht tijdens maaltijden gevraagd.\n"
          ]
        }
      ],
      "source": [
        "# Query the vector database using similarity search\n",
        "query = 'gewichtsverlies'\n",
        "docs = retriever.invoke(query)\n",
        "\n",
        "print(f'Number of docs: {len(docs)}\\n')\n",
        "print(f'Retriever search type: {retriever.search_type}\\n')\n",
        "\n",
        "print(f'Documents most similar to \"{query}\":')\n",
        "for doc in docs:\n",
        "  print(doc.page_content)"
      ]
    },
    {
      "cell_type": "code",
      "execution_count": 18,
      "metadata": {
        "id": "hfgNejX3_WrV"
      },
      "outputs": [],
      "source": [
        "# Initialize the QA chain for answering questions using the retrieved documents\n",
        "qa_chain = RetrievalQA.from_chain_type(llm=OpenAI(api_key=OPENAI_API_KEY),\n",
        "                                  chain_type=\"stuff\",\n",
        "                                  retriever=retriever,\n",
        "                                  return_source_documents=True)"
      ]
    },
    {
      "cell_type": "code",
      "execution_count": 19,
      "metadata": {
        "id": "VrJeQA1Y5Rec"
      },
      "outputs": [],
      "source": [
        "# Define a function to process the response\n",
        "def process_llm_response(llm_response):\n",
        "    print(100 * '*')\n",
        "    print(f\"\\nresult: {llm_response['result']}\")\n",
        "    print('\\nSources:')\n",
        "    for source in llm_response[\"source_documents\"]:\n",
        "        print(source.metadata['id'], source.metadata['topic'])"
      ]
    },
    {
      "cell_type": "code",
      "execution_count": 20,
      "metadata": {
        "id": "vUHXH3SYCYbI"
      },
      "outputs": [],
      "source": [
        "# function to test the pipeline\n",
        "def query_retrieval_pipeline(query):\n",
        "  llm_response = qa_chain.invoke(query)\n",
        "  pprint(llm_response)\n",
        "  print(process_llm_response(llm_response))"
      ]
    },
    {
      "cell_type": "code",
      "execution_count": 21,
      "metadata": {
        "id": "GD6uq1UzS8ng"
      },
      "outputs": [
        {
          "name": "stdout",
          "output_type": "stream",
          "text": [
            "{'query': 'Wat moet je doen als je client afvalt in gewicht?',\n",
            " 'result': ' In alle gevallen is het belangrijk om een afspraak te maken voor '\n",
            "           'overleg met een diëtist. Deze kan advies geven over voeding en '\n",
            "           'eventueel voedingsaanpassingen doorvoeren om het gewichtsverlies '\n",
            "           'tegen te gaan.',\n",
            " 'source_documents': [Document(metadata={'id': '4733', 'topic': 'medisch_logistiek'}, page_content='Vandaag telefonisch contact gehad met dochter van cliënt, zij maakt zich zorgen over gewichtsverlies. Afspraak inplannen voor overleg en eventueel diëtist inschakelen.'),\n",
            "                      Document(metadata={'id': '4576', 'topic': 'medisch_logistiek'}, page_content='Verpleging heeft opgemerkt dat meneer Jansen de laatste dagen moeite heeft met eten en drinken. Zijn gewicht lijkt ook af te nemen. Graag diëtist inschakelen voor advies.'),\n",
            "                      Document(metadata={'id': '3960', 'topic': 'medisch_logistiek'}, page_content='Zoon van dhr. belt bezorgd over gewichtsverlies vader. Afspraak plannen voor voedingsbeoordeling en overleg met diëtist.'),\n",
            "                      Document(metadata={'id': '4674', 'topic': 'medisch_logistiek'}, page_content='Dringend overleg nodig met diëtist over voedingsaanpassingen dhr., ongewenst gewichtsverlies geconstateerd')]}\n",
            "****************************************************************************************************\n",
            "\n",
            "result:  In alle gevallen is het belangrijk om een afspraak te maken voor overleg met een diëtist. Deze kan advies geven over voeding en eventueel voedingsaanpassingen doorvoeren om het gewichtsverlies tegen te gaan.\n",
            "\n",
            "Sources:\n",
            "4733 medisch_logistiek\n",
            "4576 medisch_logistiek\n",
            "3960 medisch_logistiek\n",
            "4674 medisch_logistiek\n",
            "None\n"
          ]
        }
      ],
      "source": [
        "query_retrieval_pipeline (\"Wat moet je doen als je client afvalt in gewicht?\")"
      ]
    },
    {
      "cell_type": "code",
      "execution_count": 22,
      "metadata": {
        "id": "eFZ8vW4-C-LW"
      },
      "outputs": [
        {
          "name": "stdout",
          "output_type": "stream",
          "text": [
            "{'query': 'Wat moet je doen als je client agressief gedrag vertoont?',\n",
            " 'result': ' Probeer de situatie te de-escaleren door rustig met de client te '\n",
            "           'praten en hem/haar te begeleiden bij het omgaan met onverwachte '\n",
            "           'situaties. Indien nodig kan ook de medicatie worden aangepast. Het '\n",
            "           'is belangrijk om de veiligheid van zowel de client als het '\n",
            "           'zorgpersoneel te waarborgen.',\n",
            " 'source_documents': [Document(metadata={'id': '6572', 'topic': 'onrust'}, page_content='Mw reageert scherp: \"Waarom bent u hier? Ga weg!\" bij benadering door verzorgende. Vertoonde agressief gedrag door met kussen te gooien. Rustige omgeving geboden.'),\n",
            "                      Document(metadata={'id': '6287', 'topic': 'onrust'}, page_content='Dhr is vanochtend erg agressief naar het zorgpersoneel toe, hij weigert zijn medicatie in te nemen en slaat om zich heen. Probeer de situatie te de-escaleren door rustig met hem te praten.'),\n",
            "                      Document(metadata={'id': '6727', 'topic': 'onrust'}, page_content='Dhr roept agressief naar het personeel en gooit met voorwerpen in de kamer. Wanneer geprobeerd wordt hem te kalmeren, slaat dhr wild om zich heen en dreigt met geweld.'),\n",
            "                      Document(metadata={'id': '6083', 'topic': 'onrust'}, page_content='Mw wordt agressief als iemand haar onverwachts benadert, ze scheldt en slaat om zich heen. Medicatie aangepast en mw begeleid bij het omgaan met onverwachte situaties.')]}\n",
            "****************************************************************************************************\n",
            "\n",
            "result:  Probeer de situatie te de-escaleren door rustig met de client te praten en hem/haar te begeleiden bij het omgaan met onverwachte situaties. Indien nodig kan ook de medicatie worden aangepast. Het is belangrijk om de veiligheid van zowel de client als het zorgpersoneel te waarborgen.\n",
            "\n",
            "Sources:\n",
            "6572 onrust\n",
            "6287 onrust\n",
            "6727 onrust\n",
            "6083 onrust\n",
            "None\n"
          ]
        }
      ],
      "source": [
        "query_retrieval_pipeline(\"Wat moet je doen als je client agressief gedrag vertoont?\")"
      ]
    },
    {
      "cell_type": "code",
      "execution_count": 23,
      "metadata": {
        "id": "0SJAb2aXDg0P"
      },
      "outputs": [
        {
          "name": "stdout",
          "output_type": "stream",
          "text": [
            "{'query': \"Wat kan je doen als een cliënt onrustig is 's nachts?\",\n",
            " 'result': ' \\n'\n",
            "           '\\n'\n",
            "           'Overleg met het behandelteam, zoals een arts, psycholoog of '\n",
            "           'nachtzorg, om te bepalen welke interventies of aanpassingen in de '\n",
            "           'behandeling kunnen helpen om de onrust te verminderen en de cliënt '\n",
            "           'beter te helpen.',\n",
            " 'source_documents': [Document(metadata={'id': '4769', 'topic': 'medisch_logistiek'}, page_content=\"Dhr. onrustig 's nachts, overleg met arts of inzet van nachtzorg een optie is om hem beter te helpen.\"),\n",
            "                      Document(metadata={'id': '4181', 'topic': 'medisch_logistiek'}, page_content='Mevr. uitte onrust tijdens de nacht. Observeren slaappatroon en eventueel overleggen met psycholoog.'),\n",
            "                      Document(metadata={'id': '4146', 'topic': 'medisch_logistiek'}, page_content='Dhr. onrustig tijdens nacht, Overleg met psycholoog over mogelijke oorzaken en interventies om slaapproblemen te verminderen.'),\n",
            "                      Document(metadata={'id': '4305', 'topic': 'medisch_logistiek'}, page_content=\"Observatie gedaan van onrustig gedrag mevr. 's nachts, overleg met behandelteam voor mogelijke aanpassingen in slaapmedicatie.\")]}\n",
            "****************************************************************************************************\n",
            "\n",
            "result:  \n",
            "\n",
            "Overleg met het behandelteam, zoals een arts, psycholoog of nachtzorg, om te bepalen welke interventies of aanpassingen in de behandeling kunnen helpen om de onrust te verminderen en de cliënt beter te helpen.\n",
            "\n",
            "Sources:\n",
            "4769 medisch_logistiek\n",
            "4181 medisch_logistiek\n",
            "4146 medisch_logistiek\n",
            "4305 medisch_logistiek\n",
            "None\n"
          ]
        }
      ],
      "source": [
        "query_retrieval_pipeline(\"Wat kan je doen als een cliënt onrustig is 's nachts?\")"
      ]
    },
    {
      "cell_type": "code",
      "execution_count": 24,
      "metadata": {
        "id": "5_V8JtBEEZeA"
      },
      "outputs": [
        {
          "name": "stdout",
          "output_type": "stream",
          "text": [
            "{'query': 'Welke interventies zijn ingezet voor het verbeteren van de '\n",
            "          'nachtrust?',\n",
            " 'result': ' Er is extra aandacht besteed aan comfort en er zijn rustgevende '\n",
            "           'maatregelen genomen. Mogelijk wordt er ook overlegd met een '\n",
            "           'psycholoog voor mogelijke oorzaken en interventies om '\n",
            "           'slaapproblemen te verminderen. Er wordt ook gekeken naar '\n",
            "           'alternatieven voor slaap bevorderende middelen.',\n",
            " 'source_documents': [Document(metadata={'id': '6890', 'topic': 'symptomen'}, page_content='Mw had vanavond een onrustige nacht en klaagde over nachtmerries. Extra aandacht besteed aan comfort en rustgevende maatregelen genomen.'),\n",
            "                      Document(metadata={'id': '4647', 'topic': 'medisch_logistiek'}, page_content='Vragenlijst inzake slaappatroon ingevuld met mevr., lijkt op sommige dagen wat onrustiger te slapen. Mogelijk nachtrust verbetering bespreken.'),\n",
            "                      Document(metadata={'id': '4146', 'topic': 'medisch_logistiek'}, page_content='Dhr. onrustig tijdens nacht, Overleg met psycholoog over mogelijke oorzaken en interventies om slaapproblemen te verminderen.'),\n",
            "                      Document(metadata={'id': '4499', 'topic': 'medisch_logistiek'}, page_content='Aandachtspunt: Melding van onrustige nacht bij mevrouw, bekijken van alternatieven voor slaap bevorderende middelen')]}\n",
            "****************************************************************************************************\n",
            "\n",
            "result:  Er is extra aandacht besteed aan comfort en er zijn rustgevende maatregelen genomen. Mogelijk wordt er ook overlegd met een psycholoog voor mogelijke oorzaken en interventies om slaapproblemen te verminderen. Er wordt ook gekeken naar alternatieven voor slaap bevorderende middelen.\n",
            "\n",
            "Sources:\n",
            "6890 symptomen\n",
            "4647 medisch_logistiek\n",
            "4146 medisch_logistiek\n",
            "4499 medisch_logistiek\n",
            "None\n"
          ]
        }
      ],
      "source": [
        "query_retrieval_pipeline(\"Welke interventies zijn ingezet voor het verbeteren van de nachtrust?\")"
      ]
    },
    {
      "cell_type": "code",
      "execution_count": 25,
      "metadata": {
        "id": "54V-v_euVl5r"
      },
      "outputs": [
        {
          "name": "stdout",
          "output_type": "stream",
          "text": [
            "{'query': 'Wat zijn leuke dingen om te doen met bezoek?',\n",
            " 'result': ' Een muzikaal optreden bijwonen, spelletjes spelen en bloemen '\n",
            "           'ontvangen.',\n",
            " 'source_documents': [Document(metadata={'id': '2879', 'topic': 'sociaal'}, page_content='U bezocht samen met andere bewoners een muzikaal optreden in de recreatiezaal, wat zorgde voor een gezellige middag.'),\n",
            "                      Document(metadata={'id': '2132', 'topic': 'sociaal'}, page_content='In de middag was er een gezellige spelletjesmiddag in de recreatiezaal met enkele medebewoners. Dhr. deed enthousiast mee.'),\n",
            "                      Document(metadata={'id': '2478', 'topic': 'sociaal'}, page_content='Mw. ontving vandaag bezoek van haar kleinkinderen en samen speelden ze een gezelschapsspel.'),\n",
            "                      Document(metadata={'id': '2523', 'topic': 'sociaal'}, page_content='Tijdens het bezoekuur ontving Dhr. een prachtige bos bloemen van zijn kleindochter, wat een glimlach op zijn gezicht toverde.')]}\n",
            "****************************************************************************************************\n",
            "\n",
            "result:  Een muzikaal optreden bijwonen, spelletjes spelen en bloemen ontvangen.\n",
            "\n",
            "Sources:\n",
            "2879 sociaal\n",
            "2132 sociaal\n",
            "2478 sociaal\n",
            "2523 sociaal\n",
            "None\n"
          ]
        }
      ],
      "source": [
        "query_retrieval_pipeline(\"Wat zijn leuke dingen om te doen met bezoek?\")"
      ]
    },
    {
      "cell_type": "code",
      "execution_count": null,
      "metadata": {
        "id": "dwShUZWgn6Sx"
      },
      "outputs": [],
      "source": []
    },
    {
      "cell_type": "markdown",
      "metadata": {},
      "source": []
    }
  ],
  "metadata": {
    "colab": {
      "authorship_tag": "ABX9TyNgBOefXHBMTWJpNUOwkdE5",
      "include_colab_link": true,
      "private_outputs": true,
      "provenance": []
    },
    "kernelspec": {
      "display_name": "Python 3",
      "name": "python3"
    },
    "language_info": {
      "codemirror_mode": {
        "name": "ipython",
        "version": 3
      },
      "file_extension": ".py",
      "mimetype": "text/x-python",
      "name": "python",
      "nbconvert_exporter": "python",
      "pygments_lexer": "ipython3",
      "version": "3.12.5"
    }
  },
  "nbformat": 4,
  "nbformat_minor": 0
}
