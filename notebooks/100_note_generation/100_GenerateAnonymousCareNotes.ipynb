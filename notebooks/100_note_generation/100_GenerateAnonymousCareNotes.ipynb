{
  "cells": [
    {
      "cell_type": "markdown",
      "metadata": {
        "colab_type": "text",
        "id": "view-in-github"
      },
      "source": [
        "<a href=\"https://colab.research.google.com/github/ekrombouts/GenCareAI/blob/olympia/notebooks/100_note_generation/100_GenerateAnonymousCareNotes.ipynb\" target=\"_parent\"><img src=\"https://colab.research.google.com/assets/colab-badge.svg\" alt=\"Open In Colab\"/></a>"
      ]
    },
    {
      "cell_type": "markdown",
      "metadata": {
        "id": "n5JZvWzwQlir"
      },
      "source": [
        "# GenCare AI: Synthetic Healthcare Data Generation\n",
        "\n",
        "**Author:** Eva Rombouts  \n",
        "**Date:** 2024-05-12  \n",
        "**Updated:**  \n",
        "**Version:** 2.0 (wip)\n",
        "\n",
        "### Description\n",
        "This notebook generates synthetic healthcare data for NLP experiments.  \n",
        "It utilizes OpenAI's models to create a synthetic dataset with progress notes of nursing home clients for use in machine learning and data analysis.  \n",
        "\n",
        "These notes are “anonymous,” meaning they are not based on specific client profiles or scenarios, unlike the notes generated in later steps.\n",
        "\n",
        "An example of the resulting [dataset](https://huggingface.co/datasets/ekrombouts/dutch_nursing_home_notes) can be found on HuggingFace.   \n",
        "\n",
        "I considered using LangChain, but generating multiple completions per request is not straightforward, so I stuck to the OpenAI API."
      ]
    },
    {
      "cell_type": "code",
      "execution_count": 1,
      "metadata": {
        "id": "R6HIxjfCupoo"
      },
      "outputs": [
        {
          "name": "stdout",
          "output_type": "stream",
          "text": [
            "Requirement already satisfied: GenCareAI in /opt/anaconda3/envs/gcai/lib/python3.11/site-packages (0.2)\n"
          ]
        }
      ],
      "source": [
        "!pip install GenCareAI\n",
        "from GenCareAI.GenCareAIUtils import GenCareAISetup\n",
        "\n",
        "setup = GenCareAISetup()\n",
        "\n",
        "if setup.environment == 'Colab':\n",
        "        !pip install -q langchain langchain_openai\n",
        "\n",
        "verbose = True"
      ]
    },
    {
      "cell_type": "code",
      "execution_count": 2,
      "metadata": {
        "id": "vSNQLmnZQliu"
      },
      "outputs": [],
      "source": [
        "import pandas as pd\n",
        "\n",
        "from langchain.prompts import PromptTemplate\n",
        "from langchain.output_parsers import PydanticOutputParser\n",
        "from langchain_openai import ChatOpenAI\n",
        "from pydantic import BaseModel, Field\n",
        "from typing import List\n",
        "from langchain_community.callbacks import get_openai_callback"
      ]
    },
    {
      "cell_type": "code",
      "execution_count": 3,
      "metadata": {
        "id": "sai1Iip5Qliv"
      },
      "outputs": [
        {
          "name": "stdout",
          "output_type": "stream",
          "text": [
            "/Users/eva/Library/Mobile Documents/com~apple~CloudDocs/Documents/@DataScience/Python/GenCareAI/data/gcai_notes.csv\n"
          ]
        }
      ],
      "source": [
        "# Constants / variables\n",
        "seed = 6\n",
        "# model = 'gpt-4o-mini-2024-07-18'\n",
        "model = 'gpt-3.5-turbo-0125'\n",
        "temp = 1.1\n",
        "\n",
        "num_notes = 10 #Number of notes generated per completion\n",
        "num_completions = 10 #Number of completions per query\n",
        "\n",
        "fn = setup.get_file_path('data/gcai_notes.csv')\n",
        "\n",
        "if verbose:\n",
        "    print(fn)"
      ]
    },
    {
      "cell_type": "code",
      "execution_count": 4,
      "metadata": {
        "id": "ZepWXQYjVMXr"
      },
      "outputs": [
        {
          "name": "stdout",
          "output_type": "stream",
          "text": [
            "The output should be formatted as a JSON instance that conforms to the JSON schema below.\n",
            "\n",
            "As an example, for the schema {\"properties\": {\"foo\": {\"title\": \"Foo\", \"description\": \"a list of strings\", \"type\": \"array\", \"items\": {\"type\": \"string\"}}}, \"required\": [\"foo\"]}\n",
            "the object {\"foo\": [\"bar\", \"baz\"]} is a well-formatted instance of the schema. The object {\"properties\": {\"foo\": [\"bar\", \"baz\"]}} is not well-formatted.\n",
            "\n",
            "Here is the output schema:\n",
            "```\n",
            "{\"properties\": {\"note\": {\"description\": \"rapportage tekst\", \"items\": {\"type\": \"string\"}, \"title\": \"Note\", \"type\": \"array\"}}, \"required\": [\"note\"]}\n",
            "```\n"
          ]
        }
      ],
      "source": [
        "# Define a Pydantic model for the note structure\n",
        "class Note(BaseModel):\n",
        "    note: List[str] = Field(description=\"rapportage tekst\")\n",
        "\n",
        "# Initialize the output parser using the Pydantic model\n",
        "output_parser = PydanticOutputParser(pydantic_object=Note)\n",
        "# Get format instructions for the LLM to output data compatible with the parser\n",
        "format_instructions = output_parser.get_format_instructions()\n",
        "\n",
        "if verbose:\n",
        "    print(format_instructions)"
      ]
    },
    {
      "cell_type": "code",
      "execution_count": 5,
      "metadata": {
        "id": "GWL0JzkAVMXr"
      },
      "outputs": [],
      "source": [
        "# Define the prompt template with placeholders for variables\n",
        "template = \"\"\"Help me bij het schrijven van fictieve zorgrapportages.\n",
        "Je spreekt de taal van een niveau 3 zorgmedewerker (Verzorgende IG).\n",
        "De rapportages gaan over mensen die zijn opgenomen in het verpleeghuis. Deze clienten zijn ernstig beperkt, meestal vanweze een dementie, soms vanwege somatisch onderliggend lijden.\n",
        "\n",
        "Verzin {num_notes} rapportages over {category}.\n",
        "Varieer in zinsopbouw, formulering en stijl: gebruik zowel korte als lange zinnen, wissel tussen formeel en informeel taalgebruik, en schrijf vanuit verschillende perspectieven (bijvoorbeeld direct tegen de cliënt of in de derde persoon). Vermijd het noemen van de naam. Zorg ervoor dat sommige rapportages gedetailleerd zijn en andere juist beknopt. Gebruik afwisselende onderwerpen, zoals: {note_topics}.\n",
        "\n",
        "Voorbeelden:\n",
        "{examples}\n",
        "{format_instructions}\n",
        "\"\"\""
      ]
    },
    {
      "cell_type": "code",
      "execution_count": 6,
      "metadata": {
        "id": "OcqQ-6fCVMXr"
      },
      "outputs": [],
      "source": [
        "# Create a PromptTemplate instance, injecting format instructions as a partial variable\n",
        "prompt_template = PromptTemplate(\n",
        "    input_variables=[\"num_notes\", \"cat_description\", \"note_topics\", \"examples\"],\n",
        "    template=template,\n",
        "    partial_variables={\"format_instructions\": format_instructions},\n",
        ")\n",
        "\n",
        "# Initialize the language model with specified parameters\n",
        "llm = ChatOpenAI(api_key=setup.get_openai_key(),model=model, temperature=1.1, n=num_completions)\n"
      ]
    },
    {
      "cell_type": "code",
      "execution_count": 7,
      "metadata": {
        "id": "nxRjNISEVMXs"
      },
      "outputs": [
        {
          "name": "stdout",
          "output_type": "stream",
          "text": [
            "Help me bij het schrijven van fictieve zorgrapportages.\n",
            "Je spreekt de taal van een niveau 3 zorgmedewerker (Verzorgende IG).\n",
            "De rapportages gaan over mensen die zijn opgenomen in het verpleeghuis. Deze clienten zijn ernstig beperkt, meestal vanweze een dementie, soms vanwege somatisch onderliggend lijden.\n",
            "\n",
            "Verzin 10 rapportages over ADL (Algemene Dagelijkse Levensverrichtingen).\n",
            "Varieer in zinsopbouw, formulering en stijl: gebruik zowel korte als lange zinnen, wissel tussen formeel en informeel taalgebruik, en schrijf vanuit verschillende perspectieven (bijvoorbeeld direct tegen de cliënt of in de derde persoon). Vermijd het noemen van de naam. Zorg ervoor dat sommige rapportages gedetailleerd zijn en andere juist beknopt. Gebruik afwisselende onderwerpen, zoals: wassen, aankleden, tanden poetsen, klaarmaken voor de dag, klaarmaken voor de nacht, douchen, gebitsprothese schoonmaken of hulp na incontinentie..\n",
            "\n",
            "Voorbeelden:\n",
            "- Dhr. zijn haar gewassen en zijn baard geschoren.\n",
            "- Inco van mw, was verzadigd vanmorgen en bed was nat.\n",
            "- Het is niet goed gegaan Mw had een ongelukje met haar kleding en defeaceren Mw was incontinent Mw geholpen met opfrissen en de kleding in de was gedaan\n",
            "- U bent vanmorgen gedoucht, uw haren zijn gewassen.\n",
            "\n",
            "The output should be formatted as a JSON instance that conforms to the JSON schema below.\n",
            "\n",
            "As an example, for the schema {\"properties\": {\"foo\": {\"title\": \"Foo\", \"description\": \"a list of strings\", \"type\": \"array\", \"items\": {\"type\": \"string\"}}}, \"required\": [\"foo\"]}\n",
            "the object {\"foo\": [\"bar\", \"baz\"]} is a well-formatted instance of the schema. The object {\"properties\": {\"foo\": [\"bar\", \"baz\"]}} is not well-formatted.\n",
            "\n",
            "Here is the output schema:\n",
            "```\n",
            "{\"properties\": {\"note\": {\"description\": \"rapportage tekst\", \"items\": {\"type\": \"string\"}, \"title\": \"Note\", \"type\": \"array\"}}, \"required\": [\"note\"]}\n",
            "```\n",
            "\n"
          ]
        }
      ],
      "source": [
        "# List of dictionaries containing input data for each category\n",
        "input_data_list = [\n",
        "    {\n",
        "        \"cat\": \"adl\",\n",
        "        \"category\": \"ADL (Algemene Dagelijkse Levensverrichtingen)\",\n",
        "        \"examples\": \"\"\"- Dhr. zijn haar gewassen en zijn baard geschoren.\n",
        "- Inco van mw, was verzadigd vanmorgen en bed was nat.\n",
        "- Het is niet goed gegaan Mw had een ongelukje met haar kleding en defeaceren Mw was incontinent Mw geholpen met opfrissen en de kleding in de was gedaan\n",
        "- U bent vanmorgen gedoucht, uw haren zijn gewassen.\n",
        "\"\"\",\n",
        "        \"note_topics\": \"wassen, aankleden, tanden poetsen, klaarmaken voor de dag, klaarmaken voor de nacht, douchen, gebitsprothese schoonmaken of hulp na incontinentie.\",\n",
        "    },\n",
        "    {\n",
        "        \"cat\": \"eten_drinken\",\n",
        "        \"category\": \"eten en drinken\",\n",
        "        \"examples\": \"\"\"- Ik kreeg van de dagdienst door dat dhr. zich verslikt in haar drinken. Drinken verdikt aangeboden. Dit ging goed.\n",
        "- Ochtendzorg verliep goed, dhr was wel zeer vermoeid. Dhr heeft goed gegeten en gedronken. Dhr is na de lunch op bed geholpen om te rusten.\n",
        "- Nee ik wil niet meer. ik vond niet lekker. Mw heeft ochtend goed gegeten en gedronken. tussen de middageten mw wilde niet. zij heeft paar hapjes vla gegeten en een glas limonade gedronken.\n",
        "- Mw heeft op bed een paar hapjes pap gegeten.\n",
        "- De fresubin creme is niet op voorraad. mw ipv de creme fresubin drink aanbieden Fresubin komt vogende week weer binnen.\n",
        "\"\"\",\n",
        "        \"note_topics\": \"wat de client wel of niet heeft gegeten, welke hulp nodig is bij eten (volledige hulp, aansporing, aangepast bestek of beker), verslikken, bijhouden vocht- en voedingslijst.\",\n",
        "    },\n",
        "    {\n",
        "        \"cat\": \"sociaal\",\n",
        "        \"category\": \"sociale interactie en activiteiten\",\n",
        "        \"examples\": \"\"\"- Mw. was goed gestemd vanavond en was heel gezellig aanwezig.\n",
        "- U keek naar de kerkdienst op buurt 4.\n",
        "- Dhr zit met verschillende medebewoners in de binnentuin.\n",
        "- Ik eet samen met mijn dochter. We gaan asperges eten.\n",
        "- Mw. ging haar gangetje. Ging vanmiddag naar een muziek activiteit.\n",
        "\"\"\",\n",
        "        \"note_topics\": \"georganiseerde activiteiten, het krijgen van bezoek, bladeren door een tijdschriftje, interactie met medebewoners. Hou er rekening mee dat het gaat over rapportages van mensen in een verpleeghuis, met forse beperkingen, dus de sociale interactie en activiteiten zijn beperkt. Meestal betreft het gezelligheid, maar niet altijd.\",\n",
        "    },\n",
        "    {\n",
        "        \"cat\": \"huid\",\n",
        "        \"category\": \"huid en wonden\",\n",
        "        \"examples\": \"\"\"- ik heb jeuk op mijn rug dhr behandeld met de cetomacrogol creme\n",
        "- Wat is dat allemaal? Dhr zat aan het verband om zijn arm te plukken. Wondje op arm is klein. Dhr ervaart het verband onprettig. Pleister op het wondje gedaan.\n",
        "- Dhr zijn liezen zagen er rustig uit. Dhr zijn scrotum ingesmeerd met licht zinkzalf, deze was wel rood. De liezen met beschermende zalf ingesmeerd.\n",
        "- Mevr. lijkt nu decubitus te ontwikkelen op haar stuit. Mevr. haar hiel verzorgd, dit zag er oke uit, klein beetje geel beslag. Dit schoongemaakt, daarna verbonden volgens plan Dit in de gaten houden.\n",
        "\"\"\",\n",
        "        \"note_topics\": \"oedeem, decubituswonden, ontvellingen, roodheid en jeuk van de huid. Te lange nagels, smetplekken.\",\n",
        "    },\n",
        "    {\n",
        "        \"cat\": \"medisch_logistiek\",\n",
        "        \"category\": \"medische zorg en familie communicatie\",\n",
        "        \"examples\": \"\"\"- Oren van mevr zijn uitgespoten er kwam uit beide oren veel viezigheid.\n",
        "- Graag Dhr morgen wegen\n",
        "- Arts vragen voor brutans 5 mg besteld\n",
        "- Dochter van dhr. belde. Ze gaf aan dat ze een aanbod hebben gekregen voor verblijf in een ander verpleeghuis.\n",
        "- Fam wil graag een gesprek over bezoek cardioloog in het verleden. Er is iets voorgeschreven, ws doorgegeven aan vorige arts. graag contact met familie opnemen voor gesprek of telefonisch gesprek In artsenvisite bespreken\n",
        "\"\"\",\n",
        "        \"note_topics\": \"zorgplan besprekingen, kleine medische klachten, verzoeken van familie, bestellen van medicijnen.\",\n",
        "    },\n",
        "    {\n",
        "        \"cat\": \"nachten\",\n",
        "        \"category\": \"nachten en slapen\",\n",
        "        \"examples\": \"\"\"- Mw. heeft de gehele nacht geslapen\n",
        "- Mw heeft vannacht niet zo goed geslapen. Mw was veel wakker en wat onrustig. Lastig om mw af te leiden en te zorgen dat mw weer wilde slapen. Mw heeft een slechte nachtrust gehad.\n",
        "- De sensor is de gehele nacht niet afgegaan bij mw\n",
        "- Dhr. ging rond 23:30 uur naar bed. Heeft de hele nacht geslapen.\n",
        "- Dhr. was klaarwakker en wilde uit bed en rammelde aan het bedhek. Dhr. vertelde dat hij opgehaald zou worden. Mw. heeft hem overtuigt om toch te gaan slapen en dhr. luisterde naar mw.\n",
        "\"\"\",\n",
        "        \"note_topics\": \"onrust en dwalen in de nacht, lekker slapen, toiletgang in de nacht, bellen, scheef in bed liggen.\",\n",
        "    },\n",
        "    {\n",
        "        \"cat\": \"onrust\",\n",
        "        \"category\": \"onrust, probleemgedrag, stemming\",\n",
        "        \"examples\": \"\"\"- Ga opzij. Wat ben jij lelijk Mw schopte naar een andere bewoner en wilde een ander bewoner slaan. Mw een prikkelarme omgeving aangeboden.\n",
        "- dhr eet de planten van tafel dhr werd begeleid door collega om het uit te spugen werd hier geagiteerd door.\n",
        "- Waar is het toilet Mag ik al eten Naar zorg toe lopen, zwaaien naar de zorg om hulp.  Mw vraagt veel bevestiging van de zorg,\n",
        "- Meneer is wat onrustig loopt jammerend heen en weer en zegt steeds erg moe te zijn. Heeft een trieste blik in zijn ogen. Meneer aangeboden om naar bed te gaan, heeft hier geen rust voor.\n",
        "\"\"\",\n",
        "        \"note_topics\": \"agitatie, onrust, apathie, verwardheid. Meestal is de verwardheid subtiel, maar soms wat heftiger.\",\n",
        "    },\n",
        "    {\n",
        "        \"cat\": \"symptomen\",\n",
        "        \"category\": \"ziekte en symptomen\",\n",
        "        \"examples\": \"\"\"- Er zat iets vocht in beide voeten. Dhr had vandaag geen steunkousen aan Blijven observeren\n",
        "- Urine opvangen is tot nu toe nog niet gelukt(mw heeft er steeds def bij) Vanmiddag ook geen pijn gezien alleen evt wat frustratie als iets niet soepel loopt.\n",
        "- Ik heb pijn dhr gaf pijn aan aan zijn linker pink en ringvinger. Er zitten daar een soort bloedblaren al wel langer. Graag even in de gaten houden en rapporteren of dhr meer pijn krijgt.\n",
        "- Dhr. had om 6u zeer veel last van slijm en een vieze smaak in zijn mond. Dhr geassisteerd met het spoelen van zijn mond.\n",
        "- Erg pijnlijk bij de ADL. Morgen graag overleg met de arts over de pijnmedicatie\n",
        "- Dhr is erg benauwd, klinkt vol, heeft een reutelende ademhaling.\n",
        "\"\"\",\n",
        "        \"note_topics\": \"pijn, benauwdheid, misselijkheid, diarree, rugklachten, palliatieve zorg. Meestal zijn de klachten subtiel, maar soms heftiger.\",\n",
        "    },\n",
        "    {\n",
        "        \"cat\": \"mobiliteit\",\n",
        "        \"category\": \"mobiliteit en transfers\",\n",
        "        \"examples\": \"\"\"- Vandaag geholpen met de passieve lift. Dit ging goed.\n",
        "- Veel rondgelopen vandaag. Mw vergeet steeds haar rollator.\n",
        "- De banden van de rolstoel zijn zacht. Kan de fysio hier naar kijken?\n",
        "- De transfers gaan steeds moeilijker. Mw hangt erg in de actieve lift. Glijdt weg. Wil graag nog met de actieve lift geholpen worden, maar dit gaat eigenlijk niet meer. @ Ergo, graag je advies\n",
        "\"\"\",\n",
        "        \"note_topics\": \"loophulpmiddelen, de rolstoel, valgevaar, valincidenten, transfers, tilliften. De meeste rapportages gaan over dagelijkse dingetjes, dus niet alles is een ernstig incident.\",\n",
        "    },\n",
        "]\n",
        "\n",
        "\n",
        "if verbose:\n",
        "    sample = input_data_list[0]\n",
        "    sample_prompt = template.format(\n",
        "        num_notes=10,\n",
        "        category=sample['category'],\n",
        "        note_topics=sample['note_topics'],\n",
        "        examples=sample['examples'],\n",
        "        format_instructions=format_instructions\n",
        ")\n",
        "    print(sample_prompt)\n"
      ]
    },
    {
      "cell_type": "code",
      "execution_count": 8,
      "metadata": {
        "id": "7pn_K_NvVMXs"
      },
      "outputs": [
        {
          "name": "stdout",
          "output_type": "stream",
          "text": [
            "Generating notes for category: ADL (Algemene Dagelijkse Levensverrichtingen)\n",
            "Generating notes for category: eten en drinken\n",
            "Generating notes for category: sociale interactie en activiteiten\n",
            "Generating notes for category: huid en wonden\n",
            "Generating notes for category: medische zorg en familie communicatie\n",
            "Generating notes for category: nachten en slapen\n",
            "Generating notes for category: onrust, probleemgedrag, stemming\n",
            "Generating notes for category: ziekte en symptomen\n",
            "Generating notes for category: mobiliteit en transfers\n",
            "{\n",
            "  \"note\": [\n",
            "    \"Cliënt is vanmorgen geholpen met wassen en aankleden.\",\n",
            "    \"Mw heeft zelfstandig haar tanden gepoetst na herinnering van verzorgende.\",\n",
            "    \"Dhr. had vanmorgen last van incontinentie, is verschoond en bed is verschoond.\",\n",
            "    \"Cliënt had moeite met aan- en uitkleden, daarbij geholpen door verzorgende.\",\n",
            "    \"Mw had vanmiddag extra hulp nodig bij toiletgang vanwege obstipatie.\",\n",
            "    \"Dhr. wilde vanmorgen niet douchen, dit is uitgesteld tot vanavond.\",\n",
            "    \"Inco van mw verschoond en gebitsprothese gereinigd na ontbijt.\",\n",
            "    \"Mw heeft hulp nodig gehad bij klaarmaken voor de nacht, medicatie toegediend door verzorgende.\",\n",
            "    \"Dhr. wilde vanmiddag niet geholpen worden met wassen, dit is genoteerd in rapportage.\",\n",
            "    \"Mw heeft vandaag zelfstandig haar kleding uitgezocht en aangetrokken.\"\n",
            "  ]\n",
            "}\n"
          ]
        }
      ],
      "source": [
        "results = []\n",
        "\n",
        "# Loop through the input data for each category\n",
        "for input_data in input_data_list:\n",
        "    # Add num_notes to the input data\n",
        "    input_data_with_num_notes = {**input_data, \"num_notes\": num_notes}\n",
        "\n",
        "    # Generate the prompt\n",
        "    prompt = prompt_template.format(**input_data_with_num_notes)\n",
        "\n",
        "    if verbose:\n",
        "      print(f\"Generating notes for category: {input_data['category']}\")\n",
        "\n",
        "    # Generate responses\n",
        "    response = llm.generate([[prompt]])\n",
        "\n",
        "    results.append(response)\n",
        "      \n",
        "if verbose:\n",
        "    print((results[0]).generations[0][0].text)\n"
      ]
    },
    {
      "cell_type": "code",
      "execution_count": 9,
      "metadata": {
        "id": "1WX7ZCOFVMXt"
      },
      "outputs": [
        {
          "name": "stdout",
          "output_type": "stream",
          "text": [
            "Error parsing the output for category 9, completion 1, generation 7: Invalid json output: {\n",
            "\t\"note\": [\n",
            "\t\t- Vandaag is mevrouw met de actieve lift uit bed gehaald. Ze was erg onrustig en probeerde te staan. Samen met een collega is de transfer veilig verlopen. \n",
            "\t\t- Meneer weigert de rollator te gebruiken en gaat steeds op pad zonder ondersteuning. Hierdoor is er een verhoogd risico op valincidenten. Graag extra observatie inzetten.\n",
            "\t\t- De banden van de rolstoel zijn opgepompt, dit zorgt voor meer comfort tijdens het gebruik. Cliënt lijkt nu beter te kunnen sturen.\n",
            "\t\t- Mw heeft vanochtend met behulp van de passieve lift gedoucht. De transfer verliep soepel en ze genoot zichtbaar van de frisse start van de dag.\n",
            "\t\t- Tijdens de lunch is mw gevallen bij het overzetten van de rolstoel naar de stoel aan tafel. Geen letsel opgelopen, maar extra voorzichtigheid is nodig.\n",
            "\t\t- Meneer klaagt over pijn in de benen bij het opstaan uit bed. Wellicht is een andere transfermethode beter geschikt, graag overleg met de fysiotherapeut.\n",
            "\t\t- Mevrouw weet steeds beter haar looproute door de gang te vinden, zonder de rollator te vergeten. Dit geeft meer zelfvertrouwen en stimuleert de mobiliteit.\n",
            "\t\t- Vandaag voor het eerst geoefend met de tillift. Het kostte wat tijd om aan te wennen, maar uiteindelijk lukte de transfer naar de stoel goed.\n",
            "\t\t- Cliënt voelt zich steeds minder veilig bij het lopen met de rollator. Extra begeleiding is nodig om het vertrouwen te vergroten en valrisico's te verkleinen.\n",
            "\t\t- Het gebruik van de trippelstoel geeft mw meer bewegingsvrijheid en zelfstandigheid in haar dagelijkse activiteiten. Dit stimuleert haar zelfredzaamheid.\n",
            "\t]\n",
            "}\n",
            "  category  completion  generation  \\\n",
            "0      adl           1           1   \n",
            "1      adl           1           1   \n",
            "2      adl           1           1   \n",
            "3      adl           1           1   \n",
            "4      adl           1           1   \n",
            "\n",
            "                                                note  \n",
            "0  Cliënt is vanmorgen geholpen met wassen en aan...  \n",
            "1  Mw heeft zelfstandig haar tanden gepoetst na h...  \n",
            "2  Dhr. had vanmorgen last van incontinentie, is ...  \n",
            "3  Cliënt had moeite met aan- en uitkleden, daarb...  \n",
            "4  Mw had vanmiddag extra hulp nodig bij toiletga...  \n"
          ]
        }
      ],
      "source": [
        "data = []\n",
        "\n",
        "# Loop through the results for each category\n",
        "for i, response in enumerate(results):\n",
        "    # Loop through the completions for each category\n",
        "    for j, generation in enumerate(response.generations):\n",
        "        # Loop through the individual generations within each completion\n",
        "        for k, gen_text in enumerate(generation):\n",
        "            generated_text = gen_text.text  # Extract the generated text\n",
        "\n",
        "            try:\n",
        "                # Parse the generated text using the Pydantic parser\n",
        "                parsed_output = output_parser.parse(generated_text)\n",
        "\n",
        "                # Loop through the parsed notes and add them to the data list\n",
        "                for note in parsed_output.note:\n",
        "                    data.append({\n",
        "                        'category': input_data_list[i]['cat'],  # Add the category from input data\n",
        "                        'completion': j + 1,  # Track which completion this belongs to\n",
        "                        'generation': k + 1,  # Track which generation within the completion\n",
        "                        'note': note  # Store the parsed note text\n",
        "                    })\n",
        "\n",
        "            except Exception as e:\n",
        "                print(f\"Error parsing the output for category {i+1}, completion {j+1}, generation {k+1}: {e}\")\n",
        "\n",
        "# Convert the data list into a Pandas DataFrame\n",
        "df = pd.DataFrame(data)\n",
        "\n",
        "if verbose:\n",
        "    print(df.head())"
      ]
    },
    {
      "cell_type": "code",
      "execution_count": 10,
      "metadata": {},
      "outputs": [
        {
          "name": "stdout",
          "output_type": "stream",
          "text": [
            "Error parsing the output for category mobiliteit, completion 1, generation 7: Invalid json output: {\n",
            "\t\"note\": [\n",
            "\t\t- Vandaag is mevrouw met de actieve lift uit bed gehaald. Ze was erg onrustig en probeerde te staan. Samen met een collega is de transfer veilig verlopen. \n",
            "\t\t- Meneer weigert de rollator te gebruiken en gaat steeds op pad zonder ondersteuning. Hierdoor is er een verhoogd risico op valincidenten. Graag extra observatie inzetten.\n",
            "\t\t- De banden van de rolstoel zijn opgepompt, dit zorgt voor meer comfort tijdens het gebruik. Cliënt lijkt nu beter te kunnen sturen.\n",
            "\t\t- Mw heeft vanochtend met behulp van de passieve lift gedoucht. De transfer verliep soepel en ze genoot zichtbaar van de frisse start van de dag.\n",
            "\t\t- Tijdens de lunch is mw gevallen bij het overzetten van de rolstoel naar de stoel aan tafel. Geen letsel opgelopen, maar extra voorzichtigheid is nodig.\n",
            "\t\t- Meneer klaagt over pijn in de benen bij het opstaan uit bed. Wellicht is een andere transfermethode beter geschikt, graag overleg met de fysiotherapeut.\n",
            "\t\t- Mevrouw weet steeds beter haar looproute door de gang te vinden, zonder de rollator te vergeten. Dit geeft meer zelfvertrouwen en stimuleert de mobiliteit.\n",
            "\t\t- Vandaag voor het eerst geoefend met de tillift. Het kostte wat tijd om aan te wennen, maar uiteindelijk lukte de transfer naar de stoel goed.\n",
            "\t\t- Cliënt voelt zich steeds minder veilig bij het lopen met de rollator. Extra begeleiding is nodig om het vertrouwen te vergroten en valrisico's te verkleinen.\n",
            "\t\t- Het gebruik van de trippelstoel geeft mw meer bewegingsvrijheid en zelfstandigheid in haar dagelijkse activiteiten. Dit stimuleert haar zelfredzaamheid.\n",
            "\t]\n",
            "}\n",
            "Original output: {\n",
            "\t\"note\": [\n",
            "\t\t- Vandaag is mevrouw met de actieve lift uit bed gehaald. Ze was erg onrustig en probeerde te staan. Samen met een collega is de transfer veilig verlopen. \n",
            "\t\t- Meneer weigert de rollator te gebruiken en gaat steeds op pad zonder ondersteuning. Hierdoor is er een verhoogd risico op valincidenten. Graag extra observatie inzetten.\n",
            "\t\t- De banden van de rolstoel zijn opgepompt, dit zorgt voor meer comfort tijdens het gebruik. Cliënt lijkt nu beter te kunnen sturen.\n",
            "\t\t- Mw heeft vanochtend met behulp van de passieve lift gedoucht. De transfer verliep soepel en ze genoot zichtbaar van de frisse start van de dag.\n",
            "\t\t- Tijdens de lunch is mw gevallen bij het overzetten van de rolstoel naar de stoel aan tafel. Geen letsel opgelopen, maar extra voorzichtigheid is nodig.\n",
            "\t\t- Meneer klaagt over pijn in de benen bij het opstaan uit bed. Wellicht is een andere transfermethode beter geschikt, graag overleg met de fysiotherapeut.\n",
            "\t\t- Mevrouw weet steeds beter haar looproute door de gang te vinden, zonder de rollator te vergeten. Dit geeft meer zelfvertrouwen en stimuleert de mobiliteit.\n",
            "\t\t- Vandaag voor het eerst geoefend met de tillift. Het kostte wat tijd om aan te wennen, maar uiteindelijk lukte de transfer naar de stoel goed.\n",
            "\t\t- Cliënt voelt zich steeds minder veilig bij het lopen met de rollator. Extra begeleiding is nodig om het vertrouwen te vergroten en valrisico's te verkleinen.\n",
            "\t\t- Het gebruik van de trippelstoel geeft mw meer bewegingsvrijheid en zelfstandigheid in haar dagelijkse activiteiten. Dit stimuleert haar zelfredzaamheid.\n",
            "\t]\n",
            "}\n",
            "  category  completion  generation  \\\n",
            "0      adl           1           1   \n",
            "1      adl           1           1   \n",
            "2      adl           1           1   \n",
            "3      adl           1           1   \n",
            "4      adl           1           1   \n",
            "\n",
            "                                                note  \n",
            "0  Cliënt is vanmorgen geholpen met wassen en aan...  \n",
            "1  Mw heeft zelfstandig haar tanden gepoetst na h...  \n",
            "2  Dhr. had vanmorgen last van incontinentie, is ...  \n",
            "3  Cliënt had moeite met aan- en uitkleden, daarb...  \n",
            "4  Mw had vanmiddag extra hulp nodig bij toiletga...  \n"
          ]
        }
      ],
      "source": [
        "data = []\n",
        "\n",
        "# Loop through the results for each category\n",
        "for i, response in enumerate(results):\n",
        "    # Loop through the completions for each category\n",
        "    for j, generation in enumerate(response.generations):\n",
        "        # Loop through the individual generations within each completion\n",
        "        for k, gen_text in enumerate(generation):\n",
        "            generated_text = gen_text.text  # Extract the generated text\n",
        "            \n",
        "            # Schoonmaken van de gegenereerde tekst\n",
        "            cleaned_output = generated_text.replace(\"```json\", \"\").replace(\"```\", \"\").strip()\n",
        "\n",
        "            try:\n",
        "                # Parse de schoongemaakte tekst\n",
        "                parsed_output = output_parser.parse(cleaned_output)\n",
        "\n",
        "                # Voeg de geparsed notes toe aan de data lijst\n",
        "                for note in parsed_output.note:\n",
        "                    data.append({\n",
        "                        'category': input_data_list[i]['cat'],\n",
        "                        'generation': k + 1,\n",
        "                        'note': note\n",
        "                    })\n",
        "\n",
        "            except Exception as e:\n",
        "                # Log de originele output die de fout heeft veroorzaakt\n",
        "                print(f\"Error parsing the output for category {input_data_list[i]['cat']}, generation {k + 1}: {e}\")\n",
        "                print(f\"Original output: {cleaned_output}\")  # Deze regel is toegevoegd\n",
        "\n",
        "# Zet de data lijst om in een Pandas DataFrame\n",
        "df = pd.DataFrame(data)\n",
        "\n",
        "if verbose:\n",
        "    print(df.head())"
      ]
    },
    {
      "cell_type": "code",
      "execution_count": null,
      "metadata": {},
      "outputs": [],
      "source": [
        "df.info()"
      ]
    },
    {
      "cell_type": "code",
      "execution_count": 11,
      "metadata": {
        "id": "AQ2amxE9VMXt"
      },
      "outputs": [
        {
          "name": "stdout",
          "output_type": "stream",
          "text": [
            "Data opgeslagen naar /Users/eva/Library/Mobile Documents/com~apple~CloudDocs/Documents/@DataScience/Python/GenCareAI/data/gcai_notes.csv\n"
          ]
        }
      ],
      "source": [
        "# Sla de DataFrame op als CSV-bestand\n",
        "df.to_csv(fn, index=False)\n",
        "\n",
        "# Bevestig dat het bestand succesvol is opgeslagen, als verbose aan staat\n",
        "if verbose:\n",
        "    print(f\"Data opgeslagen naar: {fn}\")"
      ]
    },
    {
      "cell_type": "code",
      "execution_count": 13,
      "metadata": {
        "id": "TV9Ub4q5VMXt"
      },
      "outputs": [
        {
          "name": "stderr",
          "output_type": "stream",
          "text": [
            "Creating parquet from Arrow format: 100%|██████████| 1/1 [00:00<00:00, 37.42ba/s]\n",
            "Uploading the dataset shards: 100%|██████████| 1/1 [00:01<00:00,  1.76s/it]\n",
            "Creating parquet from Arrow format: 100%|██████████| 1/1 [00:00<00:00, 294.54ba/s]\n",
            "Uploading the dataset shards: 100%|██████████| 1/1 [00:00<00:00,  1.77it/s]\n",
            "Creating parquet from Arrow format: 100%|██████████| 1/1 [00:00<00:00, 210.00ba/s]\n",
            "Uploading the dataset shards: 100%|██████████| 1/1 [00:01<00:00,  1.01s/it]\n"
          ]
        },
        {
          "data": {
            "text/plain": [
              "CommitInfo(commit_url='https://huggingface.co/datasets/ekrombouts/Olympia_notes/commit/c0326aac115d8300ff49fdb566e48fff34e8aaa1', commit_message='Synthetic notes, v2.0wip', commit_description='', oid='c0326aac115d8300ff49fdb566e48fff34e8aaa1', pr_url=None, pr_revision=None, pr_num=None)"
            ]
          },
          "execution_count": 13,
          "metadata": {},
          "output_type": "execute_result"
        }
      ],
      "source": [
        "# !pip -q install datasets\n",
        "\n",
        "from datasets import Dataset, DatasetDict\n",
        "\n",
        "dataset = Dataset.from_pandas(df)\n",
        "# Path for pushing dataset to HuggingFace Hub\n",
        "path_hf_sampc_long = \"ekrombouts/Olympia_notes\"\n",
        "# Commit message for the push\n",
        "commit_message = \"Synthetic notes, v2.0wip\"\n",
        "\n",
        "\n",
        "# Split the dataset into training and test/validation splits\n",
        "train_testvalid_split = dataset.train_test_split(test_size=0.2, seed=seed)\n",
        "\n",
        "# Further split the test set into validation and test sets\n",
        "test_valid_split = train_testvalid_split['test'].train_test_split(test_size=0.5, seed=seed)\n",
        "\n",
        "# Create a DatasetDict object to hold the splits\n",
        "dataset_dict = DatasetDict({\n",
        "    'train': train_testvalid_split['train'],\n",
        "    'validation': test_valid_split['train'],\n",
        "    'test': test_valid_split['test'],\n",
        "})\n",
        "\n",
        "# Push the dataset to HuggingFace Hub with the specified path and commit message\n",
        "dataset_dict.push_to_hub(path_hf_sampc_long,\n",
        "                         commit_message=commit_message,\n",
        "                         private=True)"
      ]
    },
    {
      "cell_type": "code",
      "execution_count": null,
      "metadata": {},
      "outputs": [],
      "source": []
    }
  ],
  "metadata": {
    "colab": {
      "include_colab_link": true,
      "provenance": []
    },
    "kernelspec": {
      "display_name": "nlp_env",
      "language": "python",
      "name": "python3"
    },
    "language_info": {
      "codemirror_mode": {
        "name": "ipython",
        "version": 3
      },
      "file_extension": ".py",
      "mimetype": "text/x-python",
      "name": "python",
      "nbconvert_exporter": "python",
      "pygments_lexer": "ipython3",
      "version": "3.11.9"
    }
  },
  "nbformat": 4,
  "nbformat_minor": 0
}
