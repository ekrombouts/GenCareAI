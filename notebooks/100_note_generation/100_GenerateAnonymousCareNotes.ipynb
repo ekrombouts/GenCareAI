{
  "cells": [
    {
      "cell_type": "markdown",
      "metadata": {
        "id": "view-in-github",
        "colab_type": "text"
      },
      "source": [
        "<a href=\"https://colab.research.google.com/github/ekrombouts/GenCareAI/blob/olympia/notebooks/100_note_generation/100_GenerateAnonymousCareNotes.ipynb\" target=\"_parent\"><img src=\"https://colab.research.google.com/assets/colab-badge.svg\" alt=\"Open In Colab\"/></a>"
      ]
    },
    {
      "cell_type": "markdown",
      "metadata": {
        "id": "n5JZvWzwQlir"
      },
      "source": [
        "# GenCare AI: Synthetic Healthcare Data Generation\n",
        "\n",
        "**Author:** Eva Rombouts  \n",
        "**Date:** 2024-05-12  \n",
        "**Updated:**  \n",
        "**Version:** 2.0 (wip)\n",
        "\n",
        "### Description\n",
        "This notebook generates synthetic healthcare data for NLP experiments.  \n",
        "It utilizes OpenAI's models to create a synthetic dataset with progress notes of nursing home clients for use in machine learning and data analysis.  \n",
        "\n",
        "These notes are “anonymous,” meaning they are not based on specific client profiles or scenarios, unlike the notes generated in later steps.\n",
        "\n",
        "An example of the resulting [dataset](https://huggingface.co/datasets/ekrombouts/dutch_nursing_home_notes) can be found on HuggingFace.   \n",
        "\n",
        "I considered using LangChain, but generating multiple completions per request is not straightforward, so I stuck to the OpenAI API."
      ]
    },
    {
      "cell_type": "code",
      "execution_count": null,
      "metadata": {
        "id": "R6HIxjfCupoo"
      },
      "outputs": [],
      "source": [
        "!pip install GenCareAI\n",
        "from GenCareAI.GenCareAIUtils import GenCareAISetup\n",
        "\n",
        "setup = GenCareAISetup()\n",
        "\n",
        "if setup.environment == 'Colab':\n",
        "        !pip install -q langchain langchain_openai\n",
        "\n",
        "verbose = True"
      ]
    },
    {
      "cell_type": "code",
      "execution_count": null,
      "metadata": {
        "id": "vSNQLmnZQliu"
      },
      "outputs": [],
      "source": [
        "import pandas as pd\n",
        "\n",
        "from langchain.prompts import PromptTemplate\n",
        "from langchain.output_parsers import PydanticOutputParser\n",
        "from langchain_openai import ChatOpenAI\n",
        "from pydantic import BaseModel, Field\n",
        "from typing import List"
      ]
    },
    {
      "cell_type": "code",
      "execution_count": null,
      "metadata": {
        "id": "sai1Iip5Qliv"
      },
      "outputs": [],
      "source": [
        "# Constants / variables\n",
        "seed = 6\n",
        "model = 'gpt-4o-mini-2024-07-18'\n",
        "temp = 1.1\n",
        "\n",
        "num_notes = 50 #Number of notes generated per completion\n",
        "num_completions = 100 #Number of completions per query\n",
        "\n",
        "fn = setup.get_file_path('data/gcai_notes.csv')\n",
        "\n",
        "if verbose:\n",
        "    print(fn)"
      ]
    },
    {
      "cell_type": "code",
      "execution_count": null,
      "metadata": {
        "id": "ZepWXQYjVMXr"
      },
      "outputs": [],
      "source": [
        "# Define a Pydantic model for the note structure\n",
        "class Note(BaseModel):\n",
        "    note: List[str] = Field(description=\"rapportage tekst\")\n",
        "\n",
        "# Initialize the output parser using the Pydantic model\n",
        "output_parser = PydanticOutputParser(pydantic_object=Note)\n",
        "# Get format instructions for the LLM to output data compatible with the parser\n",
        "format_instructions = output_parser.get_format_instructions()\n",
        "\n",
        "if verbose:\n",
        "    print(format_instructions)"
      ]
    },
    {
      "cell_type": "code",
      "execution_count": null,
      "metadata": {
        "id": "GWL0JzkAVMXr"
      },
      "outputs": [],
      "source": [
        "# Define the prompt template with placeholders for variables\n",
        "template = \"\"\"Help me bij het schrijven van fictieve zorgrapportages.\n",
        "Je spreekt de taal van een niveau 3 zorgmedewerker (Verzorgende IG).\n",
        "De rapportages gaan over mensen die zijn opgenomen in het verpleeghuis. Deze clienten zijn ernstig beperkt, meestal vanweze een dementie, soms vanwege somatisch onderliggend lijden.\n",
        "\n",
        "Verzin {num_notes} rapportages over {category}.\n",
        "Varieer in zinsopbouw, formulering en stijl: gebruik zowel korte als lange zinnen, wissel tussen formeel en informeel taalgebruik, en schrijf vanuit verschillende perspectieven (bijvoorbeeld direct tegen de cliënt of in de derde persoon). Vermijd het noemen van de naam. Zorg ervoor dat sommige rapportages gedetailleerd zijn en andere juist beknopt. Gebruik afwisselende onderwerpen, zoals: {note_topics}.\n",
        "\n",
        "Voorbeelden:\n",
        "{examples}\n",
        "{format_instructions}\n",
        "\"\"\""
      ]
    },
    {
      "cell_type": "code",
      "execution_count": null,
      "metadata": {
        "id": "OcqQ-6fCVMXr"
      },
      "outputs": [],
      "source": [
        "# Create a PromptTemplate instance, injecting format instructions as a partial variable\n",
        "prompt_template = PromptTemplate(\n",
        "    input_variables=[\"num_notes\", \"cat_description\", \"note_topics\", \"examples\"],\n",
        "    template=template,\n",
        "    partial_variables={\"format_instructions\": format_instructions},\n",
        ")\n",
        "\n",
        "# Initialize the language model with specified parameters\n",
        "llm = ChatOpenAI(api_key=setup.get_openai_key(),model=model, temperature=1.1, n=num_completions)\n",
        "\n",
        "# # Create a chain for generating responses\n",
        "# chain = prompt_template | llm | output_parser"
      ]
    },
    {
      "cell_type": "code",
      "execution_count": null,
      "metadata": {
        "id": "nxRjNISEVMXs"
      },
      "outputs": [],
      "source": [
        "# List of dictionaries containing input data for each category\n",
        "input_data_list = [\n",
        "    {\n",
        "        \"cat\": \"adl\",\n",
        "        \"category\": \"ADL (Algemene Dagelijkse Levensverrichtingen)\",\n",
        "        \"examples\": \"\"\"- Dhr. zijn haar gewassen en zijn baard geschoren.\n",
        "- Inco van mw, was verzadigd vanmorgen en bed was nat.\n",
        "- Het is niet goed gegaan Mw had een ongelukje met haar kleding en defeaceren Mw was incontinent Mw geholpen met opfrissen en de kleding in de was gedaan\n",
        "- U bent vanmorgen gedoucht, uw haren zijn gewassen.\n",
        "\"\"\",\n",
        "        \"note_topics\": \"wassen, aankleden, tanden poetsen, klaarmaken voor de dag, klaarmaken voor de nacht, douchen, gebitsprothese schoonmaken of hulp na incontinentie.\",\n",
        "    },\n",
        "    {\n",
        "        \"cat\": \"eten_drinken\",\n",
        "        \"category\": \"eten en drinken\",\n",
        "        \"examples\": \"\"\"- Ik kreeg van de dagdienst door dat dhr. zich verslikt in haar drinken. Drinken verdikt aangeboden. Dit ging goed.\n",
        "- Ochtendzorg verliep goed, dhr was wel zeer vermoeid. Dhr heeft goed gegeten en gedronken. Dhr is na de lunch op bed geholpen om te rusten.\n",
        "- Nee ik wil niet meer. ik vond niet lekker. Mw heeft ochtend goed gegeten en gedronken. tussen de middageten mw wilde niet. zij heeft paar hapjes vla gegeten en een glas limonade gedronken.\n",
        "- Mw heeft op bed een paar hapjes pap gegeten.\n",
        "- De fresubin creme is niet op voorraad. mw ipv de creme fresubin drink aanbieden Fresubin komt vogende week weer binnen.\n",
        "\"\"\",\n",
        "        \"note_topics\": \"wat de client wel of niet heeft gegeten, welke hulp nodig is bij eten (volledige hulp, aansporing, aangepast bestek of beker), verslikken, bijhouden vocht- en voedingslijst.\",\n",
        "    },\n",
        "    {\n",
        "        \"cat\": \"sociaal\",\n",
        "        \"category\": \"sociale interactie en activiteiten\",\n",
        "        \"examples\": \"\"\"- Mw. was goed gestemd vanavond en was heel gezellig aanwezig.\n",
        "- U keek naar de kerkdienst op buurt 4.\n",
        "- Dhr zit met verschillende medebewoners in de binnentuin.\n",
        "- Ik eet samen met mijn dochter. We gaan asperges eten.\n",
        "- Mw. ging haar gangetje. Ging vanmiddag naar een muziek activiteit.\n",
        "\"\"\",\n",
        "        \"note_topics\": \"georganiseerde activiteiten, het krijgen van bezoek, bladeren door een tijdschriftje, interactie met medebewoners. Hou er rekening mee dat het gaat over rapportages van mensen in een verpleeghuis, met forse beperkingen, dus de sociale interactie en activiteiten zijn beperkt. Meestal betreft het gezelligheid, maar niet altijd.\",\n",
        "    },\n",
        "    {\n",
        "        \"cat\": \"huid\",\n",
        "        \"category\": \"huid en wonden\",\n",
        "        \"examples\": \"\"\"- ik heb jeuk op mijn rug dhr behandeld met de cetomacrogol creme\n",
        "- Wat is dat allemaal? Dhr zat aan het verband om zijn arm te plukken. Wondje op arm is klein. Dhr ervaart het verband onprettig. Pleister op het wondje gedaan.\n",
        "- Dhr zijn liezen zagen er rustig uit. Dhr zijn scrotum ingesmeerd met licht zinkzalf, deze was wel rood. De liezen met beschermende zalf ingesmeerd.\n",
        "- Mevr. lijkt nu decubitus te ontwikkelen op haar stuit. Mevr. haar hiel verzorgd, dit zag er oke uit, klein beetje geel beslag. Dit schoongemaakt, daarna verbonden volgens plan Dit in de gaten houden.\n",
        "\"\"\",\n",
        "        \"note_topics\": \"oedeem, decubituswonden, ontvellingen, roodheid en jeuk van de huid. Te lange nagels, smetplekken.\",\n",
        "    },\n",
        "    {\n",
        "        \"cat\": \"medisch_logistiek\",\n",
        "        \"category\": \"medische zorg en familie communicatie\",\n",
        "        \"examples\": \"\"\"- Oren van mevr zijn uitgespoten er kwam uit beide oren veel viezigheid.\n",
        "- Graag Dhr morgen wegen\n",
        "- Arts vragen voor brutans 5 mg besteld\n",
        "- Dochter van dhr. belde. Ze gaf aan dat ze een aanbod hebben gekregen voor verblijf in een ander verpleeghuis.\n",
        "- Fam wil graag een gesprek over bezoek cardioloog in het verleden. Er is iets voorgeschreven, ws doorgegeven aan vorige arts. graag contact met familie opnemen voor gesprek of telefonisch gesprek In artsenvisite bespreken\n",
        "\"\"\",\n",
        "        \"note_topics\": \"zorgplan besprekingen, kleine medische klachten, verzoeken van familie, bestellen van medicijnen.\",\n",
        "    },\n",
        "    {\n",
        "        \"cat\": \"nachten\",\n",
        "        \"category\": \"nachten en slapen\",\n",
        "        \"examples\": \"\"\"- Mw. heeft de gehele nacht geslapen\n",
        "- Mw heeft vannacht niet zo goed geslapen. Mw was veel wakker en wat onrustig. Lastig om mw af te leiden en te zorgen dat mw weer wilde slapen. Mw heeft een slechte nachtrust gehad.\n",
        "- De sensor is de gehele nacht niet afgegaan bij mw\n",
        "- Dhr. ging rond 23:30 uur naar bed. Heeft de hele nacht geslapen.\n",
        "- Dhr. was klaarwakker en wilde uit bed en rammelde aan het bedhek. Dhr. vertelde dat hij opgehaald zou worden. Mw. heeft hem overtuigt om toch te gaan slapen en dhr. luisterde naar mw.\n",
        "\"\"\",\n",
        "        \"note_topics\": \"onrust en dwalen in de nacht, lekker slapen, toiletgang in de nacht, bellen, scheef in bed liggen.\",\n",
        "    },\n",
        "    {\n",
        "        \"cat\": \"onrust\",\n",
        "        \"category\": \"onrust, probleemgedrag, stemming\",\n",
        "        \"examples\": \"\"\"- Ga opzij. Wat ben jij lelijk Mw schopte naar een andere bewoner en wilde een ander bewoner slaan. Mw een prikkelarme omgeving aangeboden.\n",
        "- dhr eet de planten van tafel dhr werd begeleid door collega om het uit te spugen werd hier geagiteerd door.\n",
        "- Waar is het toilet Mag ik al eten Naar zorg toe lopen, zwaaien naar de zorg om hulp.  Mw vraagt veel bevestiging van de zorg,\n",
        "- Meneer is wat onrustig loopt jammerend heen en weer en zegt steeds erg moe te zijn. Heeft een trieste blik in zijn ogen. Meneer aangeboden om naar bed te gaan, heeft hier geen rust voor.\n",
        "\"\"\",\n",
        "        \"note_topics\": \"agitatie, onrust, apathie, verwardheid. Meestal is de verwardheid subtiel, maar soms wat heftiger.\",\n",
        "    },\n",
        "    {\n",
        "        \"cat\": \"symptomen\",\n",
        "        \"category\": \"ziekte en symptomen\",\n",
        "        \"examples\": \"\"\"- Er zat iets vocht in beide voeten. Dhr had vandaag geen steunkousen aan Blijven observeren\n",
        "- Urine opvangen is tot nu toe nog niet gelukt(mw heeft er steeds def bij) Vanmiddag ook geen pijn gezien alleen evt wat frustratie als iets niet soepel loopt.\n",
        "- Ik heb pijn dhr gaf pijn aan aan zijn linker pink en ringvinger. Er zitten daar een soort bloedblaren al wel langer. Graag even in de gaten houden en rapporteren of dhr meer pijn krijgt.\n",
        "- Dhr. had om 6u zeer veel last van slijm en een vieze smaak in zijn mond. Dhr geassisteerd met het spoelen van zijn mond.\n",
        "- Erg pijnlijk bij de ADL. Morgen graag overleg met de arts over de pijnmedicatie\n",
        "- Dhr is erg benauwd, klinkt vol, heeft een reutelende ademhaling.\n",
        "\"\"\",\n",
        "        \"note_topics\": \"pijn, benauwdheid, misselijkheid, diarree, rugklachten, palliatieve zorg. Meestal zijn de klachten subtiel, maar soms heftiger.\",\n",
        "    },\n",
        "    {\n",
        "        \"cat\": \"mobiliteit\",\n",
        "        \"category\": \"mobiliteit en transfers\",\n",
        "        \"examples\": \"\"\"- Vandaag geholpen met de passieve lift. Dit ging goed.\n",
        "- Veel rondgelopen vandaag. Mw vergeet steeds haar rollator.\n",
        "- De banden van de rolstoel zijn zacht. Kan de fysio hier naar kijken?\n",
        "- De transfers gaan steeds moeilijker. Mw hangt erg in de actieve lift. Glijdt weg. Wil graag nog met de actieve lift geholpen worden, maar dit gaat eigenlijk niet meer. @ Ergo, graag je advies\n",
        "\"\"\",\n",
        "        \"note_topics\": \"loophulpmiddelen, de rolstoel, valgevaar, valincidenten, transfers, tilliften. De meeste rapportages gaan over dagelijkse dingetjes, dus niet alles is een ernstig incident.\",\n",
        "    },\n",
        "]\n",
        "\n",
        "\n",
        "if verbose:\n",
        "    sample = input_data_list[0]\n",
        "    sample_prompt = template.format(\n",
        "        num_notes=10,\n",
        "        category=sample['category'],\n",
        "        note_topics=sample['note_topics'],\n",
        "        examples=sample['examples'],\n",
        "        format_instructions=format_instructions\n",
        ")\n",
        "    print(sample_prompt)\n"
      ]
    },
    {
      "cell_type": "code",
      "execution_count": null,
      "metadata": {
        "id": "7pn_K_NvVMXs"
      },
      "outputs": [],
      "source": [
        "results = []\n",
        "\n",
        "# Loop through the input data for each category\n",
        "for input_data in input_data_list:\n",
        "    # Add num_notes to the input data\n",
        "    input_data_with_num_notes = {**input_data, \"num_notes\": num_notes}\n",
        "\n",
        "    # Generate the prompt\n",
        "    prompt = prompt_template.format(**input_data_with_num_notes)\n",
        "\n",
        "    if verbose:\n",
        "      print(f\"Generating notes for category: {input_data['category']}\")\n",
        "\n",
        "    # Generate responses\n",
        "    response = llm.generate([[prompt]])\n",
        "\n",
        "    results.append(response)\n",
        "\n",
        "if verbose:\n",
        "    print((results[0]).generations[0][0].text)\n"
      ]
    },
    {
      "cell_type": "code",
      "execution_count": null,
      "metadata": {
        "id": "1WX7ZCOFVMXt"
      },
      "outputs": [],
      "source": [
        "data = []\n",
        "\n",
        "# Loop through the results for each category\n",
        "for i, response in enumerate(results):\n",
        "    # Loop through the completions for each category\n",
        "    for j, generation in enumerate(response.generations):\n",
        "        # Loop through the individual generations within each completion\n",
        "        for k, gen_text in enumerate(generation):\n",
        "            generated_text = gen_text.text  # Extract the generated text\n",
        "\n",
        "            try:\n",
        "                # Parse the generated text using the Pydantic parser\n",
        "                parsed_output = output_parser.parse(generated_text)\n",
        "\n",
        "                # Loop through the parsed notes and add them to the data list\n",
        "                for note in parsed_output.note:\n",
        "                    data.append({\n",
        "                        'category': input_data_list[i]['cat'],  # Add the category from input data\n",
        "                        'completion': j + 1,  # Track which completion this belongs to\n",
        "                        'generation': k + 1,  # Track which generation within the completion\n",
        "                        'note': note  # Store the parsed note text\n",
        "                    })\n",
        "\n",
        "            except Exception as e:\n",
        "                print(f\"Error parsing the output for category {i+1}, completion {j+1}, generation {k+1}: {e}\")\n",
        "\n",
        "# Convert the data list into a Pandas DataFrame\n",
        "df = pd.DataFrame(data)\n",
        "\n",
        "if verbose:\n",
        "    print(df.head())"
      ]
    },
    {
      "cell_type": "code",
      "execution_count": null,
      "metadata": {
        "id": "AQ2amxE9VMXt"
      },
      "outputs": [],
      "source": [
        "# Sla de DataFrame op als CSV-bestand\n",
        "df.to_csv(fn, index=False)\n",
        "\n",
        "# Bevestig dat het bestand succesvol is opgeslagen, als verbose aan staat\n",
        "if verbose:\n",
        "    print(f\"Data opgeslagen naar {fn}\")"
      ]
    },
    {
      "cell_type": "code",
      "execution_count": null,
      "metadata": {
        "id": "TV9Ub4q5VMXt"
      },
      "outputs": [],
      "source": []
    }
  ],
  "metadata": {
    "colab": {
      "provenance": [],
      "include_colab_link": true
    },
    "kernelspec": {
      "display_name": "nlp_env",
      "language": "python",
      "name": "python3"
    },
    "language_info": {
      "codemirror_mode": {
        "name": "ipython",
        "version": 3
      },
      "file_extension": ".py",
      "mimetype": "text/x-python",
      "name": "python",
      "nbconvert_exporter": "python",
      "pygments_lexer": "ipython3",
      "version": "3.11.9"
    }
  },
  "nbformat": 4,
  "nbformat_minor": 0
}