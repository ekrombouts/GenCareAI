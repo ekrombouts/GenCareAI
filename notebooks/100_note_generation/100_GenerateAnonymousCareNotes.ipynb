{
  "cells": [
    {
      "cell_type": "markdown",
      "metadata": {
        "colab_type": "text",
        "id": "view-in-github"
      },
      "source": [
        "TODO\n",
        "<a href=\"https://colab.research.google.com/github/ekrombouts/GenCareAI/blob/main/scripts/100_note_generation/100_GenerateAnonymousCareNotes.ipynb\" target=\"_parent\"><img src=\"https://colab.research.google.com/assets/colab-badge.svg\" alt=\"Open In Colab\"/></a>"
      ]
    },
    {
      "cell_type": "markdown",
      "metadata": {
        "id": "n5JZvWzwQlir"
      },
      "source": [
        "# GenCare AI: Synthetic Healthcare Data Generation\n",
        "\n",
        "**Author:** Eva Rombouts  \n",
        "**Date:** 2024-05-12  \n",
        "**Updated:** 2024-09-01  \n",
        "**Version:** 1.4\n",
        "\n",
        "### Description\n",
        "This notebook generates synthetic healthcare data for NLP experiments.  \n",
        "It utilizes OpenAI's models to create a synthetic dataset with progress notes of nursing home clients for use in machine learning and data analysis.  \n",
        "\n",
        "These notes are “anonymous,” meaning they are not based on specific client profiles or scenarios, unlike the notes generated in later steps. The notes created in this notebook\n",
        "\n",
        "An example of the resulting [dataset](https://huggingface.co/datasets/ekrombouts/dutch_nursing_home_notes) can be found on HuggingFace.   \n",
        "\n",
        "Version 1.1: Updated terminology - consistent use of notes in stead of reports.  \n",
        "Version 1.2: Minor changes in pip installs + removed all traces of the term 'reports.  \n",
        "Version 1.3: Minor changes in pip installs.  \n",
        "Version 1.4: Refinements made following testing. \n",
        "\n",
        "I considered using LangChain, but generating multiple completions per request is not straightforward, so I stuck to the OpenAI API. "
      ]
    },
    {
      "cell_type": "code",
      "execution_count": 2,
      "metadata": {
        "id": "R6HIxjfCupoo"
      },
      "outputs": [
        {
          "name": "stdout",
          "output_type": "stream",
          "text": [
            "Collecting GenCareAI\n",
            "  Downloading GenCareAI-0.2-py3-none-any.whl.metadata (74 bytes)\n",
            "Downloading GenCareAI-0.2-py3-none-any.whl (6.6 kB)\n",
            "Installing collected packages: GenCareAI\n",
            "Successfully installed GenCareAI-0.2\n"
          ]
        }
      ],
      "source": [
        "# !pip install GenCareAI\n",
        "from GenCareAI.GenCareAIUtils import GenCareAISetup"
      ]
    },
    {
      "cell_type": "code",
      "execution_count": 3,
      "metadata": {},
      "outputs": [],
      "source": [
        "setup = GenCareAISetup()\n",
        "if setup.environment == 'Colab':\n",
        "        !pip install -q openai"
      ]
    },
    {
      "cell_type": "code",
      "execution_count": 4,
      "metadata": {
        "id": "vSNQLmnZQliu"
      },
      "outputs": [],
      "source": [
        "import pandas as pd\n",
        "from openai import OpenAI"
      ]
    },
    {
      "cell_type": "code",
      "execution_count": 4,
      "metadata": {
        "id": "sai1Iip5Qliv"
      },
      "outputs": [],
      "source": [
        "# Constants / variables\n",
        "SEED = 6\n",
        "MODEL = 'gpt-3.5-turbo-0125'\n",
        "TEMPERATURE = 1.1\n",
        "\n",
        "NUM_COMPLETIONS = 10 # 100 Number of completions per query\n",
        "\n",
        "FN_NOTES = setup.get_file_path('data/gcai_notes.csv')"
      ]
    },
    {
      "cell_type": "code",
      "execution_count": 5,
      "metadata": {
        "id": "AwfO4GFIQliv"
      },
      "outputs": [],
      "source": [
        "# System role, describes the assistant's behavior in a specific context\n",
        "SYSTEM_ROLE = '''\n",
        "Je bent een specialist in het genereren van fictieve data voor natural language processing projecten in de zorg.\n",
        "\n",
        "Je spreekt de taal van een niveau 3 verzorgende in het verpleeghuis.\n",
        "'''"
      ]
    },
    {
      "cell_type": "code",
      "execution_count": 6,
      "metadata": {
        "id": "b0eix9QmQliw"
      },
      "outputs": [],
      "source": [
        "# Dictionary of user roles for different topics of the notes\n",
        "USER_ROLES = {\n",
        "        'ADL':\n",
        "        '''\n",
        "Dit zijn voorbeelden van rapportages over ADL:\n",
        "- Dhr. zijn haar gewassen en zijn baard geschoren.\n",
        "- Inco van mw, was verzadigd vanmorgen en bed was nat.\n",
        "- Het is niet goed gegaan Mw had een ongelukje met haar kleding en defeaceren Mw was incontinent Mw geholpen met opfrissen en de kleding in de was gedaan\n",
        "- U bent vanmorgen gedoucht, uw haren zijn gewassen.\n",
        "\n",
        "Andere rapportages kunnen bijvoorbeeld gaan over: wassen, aankleden, tanden poetsen, klaarmaken voor de dag, klaarmaken voor de nacht, douchen, gebitsprothese schoonmaken of hulp na incontinentie.\n",
        "\n",
        "Verzin 10 van zulke rapportages. Geef alleen de rapportages terug, gescheiden door \"\\n--- \". Varieer met de zinsopbouw en stijl.\n",
        "        ''',\n",
        "        'eten_drinken':\n",
        "        '''\n",
        "Dit zijn voorbeelden van rapportages over eten en drinken:\n",
        "- Ik kreeg van de dagdienst door dat dhr. zich verslikt in haar drinken. Drinken verdikt aangeboden. Dit ging goed.\n",
        "- Ochtendzorg verliep goed, dhr was wel zeer vermoeid. Dhr heeft goed gegeten en gedronken. Dhr is na de lunch op bed geholpen om te rusten.\n",
        "- Nee ik wil niet meer. ik vond niet lekker. Mw heeft ochtend goed gegeten en gedronken. tussen de middageten mw wilde niet. zij heeft paar hapjes vla gegeten en een glas limonade gedronken.\n",
        "- Mw heeft op bed een paar hapjes pap gegeten.\n",
        "- De fresubin creme is niet op voorraad. mw ipv de creme fresubin drink aanbieden Fresubin komt vogende week weer binnen.\n",
        "\n",
        "Andere rapportages kunnen bijvoorbeeld gaan over: wat de client wel of niet heeft gegeten, welke hulp nodig is bij eten (volledige hulp, aansporing, aangepast bestek of beker), verslikken, bijhouden vocht- en voedingslijst.\n",
        "\n",
        "Verzin 10 van zulke rapportages. Geef alleen de rapportages terug, gescheiden door \"\\n--- \". Varieer met de zinsopbouw en stijl.\n",
        "        ''',\n",
        "        'sociaal':\n",
        "        '''\n",
        "Dit zijn voorbeelden van rapportages over sociale interactie en activiteiten:\n",
        "- Mw. was goed gestemd vanavond en was heel gezellig aanwezig.\n",
        "- U keek naar de kerkdienst op buurt 4.\n",
        "- Dhr zit met verschillende medebewoners in de binnentuin.\n",
        "- Ik eet samen met mijn dochter. We gaan asperges eten.\n",
        "- Mw. ging haar gangetje. Ging vanmiddag naar een muziek activiteit.\n",
        "\n",
        "Andere rapportages kunnen bijvoorbeeld gaan over: Georganiseerde activiteiten, het krijgen van bezoek, bladeren door een tijdschriftje, interactie met medebewoners.\n",
        "\n",
        "Hou er rekening mee dat het gaat over rapportages van mensen in een verpleeghuis, met forse beperkingen, dus de sociale interactie en activiteiten zijn beperkt. Meestal betreft het gezelligheid, maar niet altijd.\n",
        "\n",
        "Verzin 10 van zulke rapportages. Geef alleen de rapportages terug, gescheiden door \"\\n--- \". Varieer met de zinsopbouw en stijl\n",
        "        ''',\n",
        "        'huid':\n",
        "        '''\n",
        "Dit zijn voorbeelden van rapportages over huid en wonden:\n",
        "- ik heb jeuk op mijn rug dhr behandeld met de cetomacrogol creme\n",
        "- Wat is dat allemaal? Dhr zat aan het verband om zijn arm te plukken. Wondje op arm is klein. Dhr ervaart het verband onprettig. Pleister op het wondje gedaan.\n",
        "- Dhr zijn liezen zagen er rustig uit. Dhr zijn scrotum ingesmeerd met licht zinkzalf, deze was wel rood. De liezen met beschermende zalf ingesmeerd.\n",
        "- Mevr. lijkt nu decubitus te ontwikkelen op haar stuit. Mevr. haar hiel verzorgd, dit zag er oke uit, klein beetje geel beslag. Dit schoongemaakt, daarna verbonden volgens plan Dit in de gaten houden.\n",
        "\n",
        "Andere rapportages kunnen bijvoorbeeld gaan over: oedeem, decubituswonden, ontvellingen, roodheid en jeuk van de huid. Te lange nagels, smetplekken.\n",
        "\n",
        "Verzin 10 van zulke rapportages. Geef alleen de rapportages terug, gescheiden door \"\\n--- \". Varieer met de zinsopbouw en stijl.\n",
        "        ''',\n",
        "        'medisch_logistiek':\n",
        "        '''\n",
        "Dit zijn voorbeelden van rapportages over medische zorg en familie communicatie:\n",
        "\n",
        "- Oren van mevr zijn uitgespoten er kwam uit beide oren veel viezigheid.\n",
        "- Graag Dhr morgen wegen\n",
        "- Arts vragen voor brutans 5 mg besteld\n",
        "- Dochter van dhr. belde. Ze gaf aan dat ze een aanbod hebben gekregen voor verblijf in een ander verpleeghuis.\n",
        "- Fam wil graag een gesprek over bezoek cardioloog in het verleden. Er is iets voorgeschreven, ws doorgegeven aan vorige arts. graag contact met familie opnemen voor gesprek of telefonisch gesprek In artsenvisite bespreken\n",
        "\n",
        "Andere rapportages kunnen bijvoorbeeld gaan over: zorgplan besprekingen, kleine medische klachten, verzoeken van familie, bestellen van medicijnen.\n",
        "\n",
        "Verzin 10 van zulke rapportages. Geef alleen de rapportages terug, gescheiden door \"\\n--- \". Varieer met de zinsopbouw en stijl.\n",
        "        ''',\n",
        "        'nachten':\n",
        "        '''\n",
        "Dit zijn voorbeelden van rapportages over nachten en slapen:\n",
        "\n",
        "- Mw. heeft de gehele nacht geslapen\n",
        "- Mw heeft vannacht niet zo goed geslapen. Mw was veel wakker en wat onrustig. Lastig om mw af te leiden en te zorgen dat mw weer wilde slapen. Mw heeft een slechte nachtrust gehad.\n",
        "- De sensor is de gehele nacht niet afgegaan bij mw\n",
        "- Dhr. ging rond 23:30 uur naar bed. Heeft de hele nacht geslapen.\n",
        "- Dhr. was klaarwakker en wilde uit bed en rammelde aan het bedhek. Dhr. vertelde dat hij opgehaald zou worden. Mw. heeft hem overtuigt om toch te gaan slapen en dhr. luisterde naar mw.\n",
        "\n",
        "Rapportages kunnen bijvoorbeeld gaan over: onrust en dwalen in de nacht, lekker slapen, toiletgang in de nacht, bellen, scheef in bed liggen.\n",
        "\n",
        "Verzin 10 van zulke rapportages. Geef alleen de rapportages terug, gescheiden door \"\\n--- \". Varieer met de zinsopbouw en stijl.\n",
        "        ''',\n",
        "        'onrust':\n",
        "        '''\n",
        "Dit zijn voorbeelden van rapportages over onrust, probleemgedrag, stemming:\n",
        "\n",
        "- Ga opzij. Wat ben jij lelijk Mw schopte naar een andere bewoner en wilde een ander bewoner slaan. Mw een prikkelarme omgeving aangeboden.\n",
        "- dhr eet de planten van tafel dhr werd begeleid door collega om het uit te spugen werd hier geagiteerd door.\n",
        "- Waar is het toilet Mag ik al eten Naar zorg toe lopen, zwaaien naar de zorg om hulp.  Mw vraagt veel bevestiging van de zorg,\n",
        "- Meneer is wat onrustig loopt jammerend heen en weer en zegt steeds erg moe te zijn. Heeft een trieste blijk in zijn ogen. Meneer aangeboden om naar bed te gaan, heeft hier geen rust voor.\n",
        "\n",
        "Rapportages kunnen bijvoorbeeld gaan over: agitatie, onrust, apathie, verwardheid.\n",
        "Meestal is de verwardheid subtiel, maar soms wat heftiger.\n",
        "\n",
        "Verzin 10 van zulke rapportages. Geef alleen de rapportages terug, gescheiden door \"\\n--- \". Varieer met de zinsopbouw en stijl.\n",
        "        ''',\n",
        "        'symptomen':\n",
        "        '''\n",
        "Dit zijn voorbeelden van rapportages over ziekte en symptomen:\n",
        "\n",
        "- Er zat iets vocht in beide voeten. Dhr had vandaag geen steunkousen aan Blijven observeren\n",
        "- Urine opvangen is tot nu toe nog niet gelukt(mw heeft er steeds def bij) Vanmiddag ook geen pijn gezien alleen evt wat frustratie als iets niet soepel loopt.\n",
        "- Ik heb pijn dhr gaf pijn aan aan zijn linker pink en ringvinger. Er zitten daar een soort bloedblaren al wel langer. Graag even in de gaten houden en rapporteren of dhr meer pijn krijgt.\n",
        "- Dhr. had om 6u zeer veel last van slijm en een vieze smaak in zijn mond. Dhr geassisteerd met het spoelen van zijn mond.\n",
        "- Erg pijnlijk bij de ADL. Morgen graag overleg met de arts over de pijnmedicatie\n",
        "- Dhr is erg benauwd, klinkt vol, heeft een reutelende ademhaling.\n",
        "\n",
        "Rapportages kunnen bijvoorbeeld gaan over: pijn, benauwdheid, misselijkheid, diarree, rugklachten, palliatieve zorg.\n",
        "Meestal zijn de klachtensubtiel, maar soms heftiger.\n",
        "\n",
        "Verzin 10 van zulke rapportages. Geef alleen de rapportages terug, gescheiden door \"\\n--- \". Varieer met de zinsopbouw en stijl.\n",
        "        ''',\n",
        "        'mobiliteit':\n",
        "        '''\n",
        "Dit zijn voorbeelden van rapportages over mobiliteit en transfers:\n",
        "\n",
        "- Vandaag geholpen met de passieve lift. Dit ging goed.\n",
        "- Veel rondgelopen vandaag. Mw vergeet steeds haar rollator.\n",
        "- De banden van de rolstoel zijn zacht. Kan de fysio hier naar kijken?\n",
        "- De transfers gaan steeds moeilijker. Mw hangt erg in de actieve lift. Glijdt weg. Wil graag nog met de actieve lift geholpen worden, maar dit gaat eigenlijk niet meer. @ Ergo, graag je advies\n",
        "\n",
        "Andere rapportages kunnen bijvoorbeeld gaan over: loophulpmiddelen, de rolstoel, valgevaar, valincidenten, transfers, tilliften.\n",
        "De meeste rapportages gaan over dagelijkse dingetjes, dus niet alles is een ernstig incident.\n",
        "\n",
        "Verzin 10 van zulke rapportages. Geef alleen de rapportages terug, gescheiden door \"\\n--- \". Varieer met de zinsopbouw en stijl.\n",
        "        '''\n",
        "}\n"
      ]
    },
    {
      "cell_type": "code",
      "execution_count": 8,
      "metadata": {},
      "outputs": [
        {
          "name": "stdout",
          "output_type": "stream",
          "text": [
            "Generating notes for topic: ADL\n",
            "Generating notes for topic: eten_drinken\n",
            "Generating notes for topic: sociaal\n",
            "Generating notes for topic: huid\n",
            "Generating notes for topic: medisch_logistiek\n",
            "Generating notes for topic: nachten\n",
            "Generating notes for topic: onrust\n",
            "Generating notes for topic: symptomen\n",
            "Generating notes for topic: mobiliteit\n"
          ]
        }
      ],
      "source": [
        "def generate_and_collect_notes():\n",
        "    \"\"\"Main function to orchestrate data generation.\"\"\"\n",
        "\n",
        "    def setup_openai_client():\n",
        "        \"\"\"Create an OpenAI client instance.\"\"\"\n",
        "        try:\n",
        "            client = OpenAI(api_key=setup.get_openai_key())\n",
        "            return client\n",
        "        except Exception as e:\n",
        "            print(f\"Failed to set up OpenAI client: {str(e)}\")\n",
        "            return None\n",
        "\n",
        "    def generate_healthcare_data(client, system_role, user_role, model, seed=None, temperature=1, n=1):\n",
        "        \"\"\"Generate synthetic healthcare data using the OpenAI API.\"\"\"\n",
        "        try:\n",
        "            completion = client.chat.completions.create(\n",
        "                model=model,\n",
        "                messages=[\n",
        "                    {\"role\": \"system\", \"content\": system_role},\n",
        "                    {\"role\": \"user\", \"content\": user_role}\n",
        "                ],\n",
        "                seed=seed,\n",
        "                temperature=temperature,\n",
        "                n=n\n",
        "            )\n",
        "            return completion\n",
        "        except Exception as e:\n",
        "            print(f\"An error occurred during data generation: {str(e)}\")\n",
        "            return None\n",
        "\n",
        "    def parse_and_clean_notes(completions):\n",
        "        \"\"\"Parse and clean notes from OpenAI completions.\"\"\"\n",
        "        notes = []\n",
        "        for choice in completions.choices:\n",
        "            splits = choice.message.content.split('---')\n",
        "            for split in splits:\n",
        "                clean_note = split.strip().lstrip('-').strip()\n",
        "                if clean_note:\n",
        "                    notes.append(clean_note)\n",
        "        return notes\n",
        "\n",
        "    # Begin main logic\n",
        "    client = setup_openai_client()\n",
        "    if not client:\n",
        "        print(\"OpenAI client setup failed. Exiting...\")\n",
        "        return\n",
        "\n",
        "    all_notes = []\n",
        "    for topic, user_role in USER_ROLES.items():\n",
        "        print(f\"Generating notes for topic: {topic}\")\n",
        "        completion = generate_healthcare_data(client, SYSTEM_ROLE, user_role, MODEL, SEED, TEMPERATURE, NUM_COMPLETIONS)\n",
        "        if completion:\n",
        "            notes = parse_and_clean_notes(completion)\n",
        "            df = pd.DataFrame(notes, columns=['note'])\n",
        "            df['topic'] = topic\n",
        "            all_notes.append(df)\n",
        "        else:\n",
        "            print(f\"Failed to generate notes for topic: {topic}\")\n",
        "\n",
        "    return all_notes\n",
        "\n",
        "all_notes = generate_and_collect_notes()\n",
        "df_all_notes = pd.concat(all_notes, ignore_index=True)"
      ]
    },
    {
      "cell_type": "code",
      "execution_count": 13,
      "metadata": {
        "id": "Jy__Vc2AX5LQ"
      },
      "outputs": [
        {
          "name": "stdout",
          "output_type": "stream",
          "text": [
            "Notes saved successfully to /Users/eva/Library/CloudStorage/GoogleDrive-e.k.rombouts@gmail.com/My Drive/Colab Notebooks/GenCareAI/data/gcai_notes.csv\n"
          ]
        }
      ],
      "source": [
        "def save_notes(df, filename):\n",
        "    \"\"\"Save the DataFrame to a CSV file.\"\"\"\n",
        "    try:\n",
        "        df.to_csv(filename, index=False)\n",
        "        print(f\"Notes saved successfully to {filename}\")\n",
        "    except Exception as e:\n",
        "        print(f\"Failed to save notes: {str(e)}\")\n",
        "    return df \n",
        "    \n",
        "saved_df = save_notes(df_all_notes, FN_NOTES)"
      ]
    },
    {
      "cell_type": "code",
      "execution_count": 15,
      "metadata": {
        "id": "XUebxF2Sbgms"
      },
      "outputs": [
        {
          "name": "stdout",
          "output_type": "stream",
          "text": [
            "<class 'pandas.core.frame.DataFrame'>\n",
            "RangeIndex: 838 entries, 0 to 837\n",
            "Data columns (total 2 columns):\n",
            " #   Column  Non-Null Count  Dtype \n",
            "---  ------  --------------  ----- \n",
            " 0   note    838 non-null    object\n",
            " 1   topic   838 non-null    object\n",
            "dtypes: object(2)\n",
            "memory usage: 13.2+ KB\n"
          ]
        }
      ],
      "source": [
        "saved_df.info()"
      ]
    },
    {
      "cell_type": "code",
      "execution_count": null,
      "metadata": {},
      "outputs": [],
      "source": []
    }
  ],
  "metadata": {
    "colab": {
      "include_colab_link": true,
      "provenance": []
    },
    "kernelspec": {
      "display_name": "nlp_env",
      "language": "python",
      "name": "python3"
    },
    "language_info": {
      "codemirror_mode": {
        "name": "ipython",
        "version": 3
      },
      "file_extension": ".py",
      "mimetype": "text/x-python",
      "name": "python",
      "nbconvert_exporter": "python",
      "pygments_lexer": "ipython3",
      "version": "3.10.12"
    }
  },
  "nbformat": 4,
  "nbformat_minor": 0
}
