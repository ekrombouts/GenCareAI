{
  "cells": [
    {
      "cell_type": "markdown",
      "metadata": {
        "colab_type": "text",
        "id": "view-in-github"
      },
      "source": [
        "<a href=\"https://colab.research.google.com/github/ekrombouts/GenCareAI/blob/main/notebooks/120_GenerateClientScenarios.ipynb\" target=\"_parent\"><img src=\"https://colab.research.google.com/assets/colab-badge.svg\" alt=\"Open In Colab\"/></a>"
      ]
    },
    {
      "cell_type": "markdown",
      "metadata": {
        "id": "NOKGyZin9teK"
      },
      "source": [
        "# GenCare AI: Generating client scenarios\n",
        "\n",
        "**Author:** Eva Rombouts  \n",
        "**Date:**   13-06-2024  \n",
        "**Updated:** 2024-10-14  \n",
        "**Version:** Olympia\n",
        "\n",
        "### Description\n",
        "In previous notebooks, we created a [dataset with client profiles for nursing home residents](https://colab.research.google.com/github/ekrombouts/GenCareAI/blob/main/notebooks/110_GenerateClientProfiles.ipynb). In this notebook, we will generate client scenarios that describe the course of events during their stay in a psychogeriatric ward. These scenarios aim to provide a timeline of care over several weeks, including complications that may arise during the client’s time in the nursing home.\n",
        "\n",
        "Our goal is to simulate the subtle changes that occur over time in a resident’s health and care needs. Each scenario is generated based on a client profile and includes complications such as weight loss, infections, or other health-related issues. The number of weeks and complications vary to reflect the unpredictability of real-life care trajectories.\n",
        "\n",
        "In this notebook, we use the gpt-4o-mini model to generate these scenarios. The temperature is set to 1.1 to promote variation in the generated content. The ward name is defined to allow for multiple experiments, and the number of weeks is drawn from a normal distribution to ensure variability in the duration of each client’s scenario.\n",
        "\n",
        "This scripts generates client scenarios based on profiles generated [here](todo).\n",
        "\n",
        "Generating scenarios based on 24 client profiles and 20 weeks, the cost is approximately $?? per run."
      ]
    },
    {
      "cell_type": "code",
      "execution_count": null,
      "metadata": {
        "id": "VCvrV851kxQM"
      },
      "outputs": [],
      "source": [
        "# Setup dependencies based on environment (e.g., Colab)\n",
        "!pip install GenCareAIUtils\n",
        "from GenCareAIUtils import GenCareAISetup\n",
        "\n",
        "setup = GenCareAISetup()\n",
        "\n",
        "if setup.environment == 'Colab':\n",
        "        !pip install -q langchain langchain_core langchain_openai langchain_community"
      ]
    },
    {
      "cell_type": "code",
      "execution_count": 2,
      "metadata": {
        "id": "qke9UwhUFE5z"
      },
      "outputs": [],
      "source": [
        "import os\n",
        "import pandas as pd\n",
        "import random\n",
        "import numpy as np\n",
        "from tqdm import tqdm\n",
        "from typing import List\n",
        "from pydantic import BaseModel, Field\n",
        "from langchain_openai import ChatOpenAI\n",
        "from langchain_core.prompts import PromptTemplate\n",
        "from langchain.output_parsers import PydanticOutputParser\n",
        "from langchain_community.callbacks import get_openai_callback\n",
        "\n",
        "# Import custom utilities\n",
        "from GenCareAIUtils import ClientProfileFormatter"
      ]
    },
    {
      "cell_type": "code",
      "execution_count": 3,
      "metadata": {
        "id": "6U8-agi-oC9w"
      },
      "outputs": [],
      "source": [
        "# Configuration parameters\n",
        "\n",
        "# General settings\n",
        "nursing_care_home_name = \"Olympia\"\n",
        "ward_name = 'Apollo'\n",
        "verbose = True\n",
        "\n",
        "# Model settings\n",
        "model_name = 'gpt-4o-mini-2024-07-18'\n",
        "temp = 1.1\n",
        "\n",
        "# Simulation settings\n",
        "duration = 20  # Number of weeks to simulate\n",
        "duration_sd = 6  # Standard deviation of the number of weeks\n",
        "num_complications_min = 1\n",
        "num_complications_max = 3\n",
        "\n",
        "# List of complications to be randomly assigned to clients\n",
        "complications_library = [\n",
        "    \"gewichtsverlies\",\n",
        "    \"algehele achteruitgang\",\n",
        "    \"decubitus\",\n",
        "    \"urineweginfectie\",\n",
        "    \"pneumonie\",\n",
        "    \"delier\",\n",
        "    \"verergering van onderliggende lichamelijke klachten\",\n",
        "    \"verbetering van de klachten\",\n",
        "    \"overlijden\",\n",
        "    \"valpartij\"\n",
        "]\n",
        "\n",
        "# File paths (after 'ward_name' is defined)\n",
        "fn_profiles =  setup.get_file_path(f\"data/{nursing_care_home_name}/gcai_client_profiles_{ward_name}.csv\")\n",
        "fn_scenarios = setup.get_file_path(f'data/{nursing_care_home_name}/gcai_client_scenarios_{ward_name}.csv')\n"
      ]
    },
    {
      "cell_type": "code",
      "execution_count": null,
      "metadata": {
        "id": "ooVq9oALSwXa"
      },
      "outputs": [],
      "source": [
        "# Load the client profiles\n",
        "df = pd.read_csv(fn_profiles)\n",
        "\n",
        "# Create an instance of ClientProfileFormatter\n",
        "cpf = ClientProfileFormatter()\n",
        "\n",
        "if verbose:\n",
        "    sample_client_id = 1\n",
        "\n",
        "    # Print the formatted client profile for the selected client\n",
        "    formatted_profile = cpf.format_client_profile(\n",
        "        profile_row=df[df['client_id'] == sample_client_id].iloc[0]\n",
        "    )\n",
        "    print(\"Client Profile:\")\n",
        "    print(formatted_profile)\n",
        "    print(100 * '-')\n"
      ]
    },
    {
      "cell_type": "code",
      "execution_count": 5,
      "metadata": {
        "id": "UtLHkgkfNAfT"
      },
      "outputs": [],
      "source": [
        "# Define the Pydantic models for handling scenario outputs\n",
        "class ClientScenario(BaseModel):\n",
        "    week: int = Field(description=\"Weeknummer\")\n",
        "    events_description: str = Field(description=\"Beschrijving van de gebeurtenissen en zorg\")\n",
        "\n",
        "class ClientScenarios(BaseModel):\n",
        "    scenario: List[ClientScenario]"
      ]
    },
    {
      "cell_type": "code",
      "execution_count": 6,
      "metadata": {
        "id": "XJUm3Dtwz3Rv"
      },
      "outputs": [],
      "source": [
        "# Initialize model and parser\n",
        "model = ChatOpenAI(api_key=setup.get_openai_key(), temperature=temp, model=model_name)\n",
        "pyd_parser = PydanticOutputParser(pydantic_object=ClientScenarios)\n",
        "format_instructions = pyd_parser.get_format_instructions()"
      ]
    },
    {
      "cell_type": "code",
      "execution_count": 7,
      "metadata": {
        "id": "cKX2x3W7bleI"
      },
      "outputs": [],
      "source": [
        "# Function to determine the scenario duration (weeks) based on normal distribution\n",
        "def determine_duration(mean=12, std_dev=4):\n",
        "    return int(np.round(np.random.normal(mean, std_dev)))\n",
        "\n",
        "# Function to determine the number of complications to be included\n",
        "def sample_complications(complications_library, min_n=1, max_n=3):\n",
        "    num_complications = random.randint(min_n, max_n)\n",
        "    chosen_complications = random.sample(complications_library, num_complications)\n",
        "    complications = \", \".join(chosen_complications)\n",
        "    return complications\n"
      ]
    },
    {
      "cell_type": "code",
      "execution_count": null,
      "metadata": {
        "id": "TOxQDCbfF1FH"
      },
      "outputs": [],
      "source": [
        "# Define the prompt template\n",
        "template=\"\"\"\n",
        "Dit is het profiel van een fictieve client in het verpleeghuis:\n",
        "---\n",
        "{client_profile}\n",
        "---\n",
        "\n",
        "Maak een week-tot-week tijdlijn voor een periode van {num_weeks} weken, en beschrijf hierin beloop van zijn/haar verblijf in het verpleeghuis.\n",
        "Verwerk de volgende complicatie(s) hierin: {complications}.\n",
        "\n",
        "Instructies:\n",
        "- Formuleer elke scenarioregel zodanig dat deze duidelijk en begrijpelijk is voor een taalmodel. Dit scenario zal als basis dienen voor het genereren van fictieve zorgrapportages.\n",
        "- Beperk dramatische veranderingen en focus op subtiele ontwikkelingen in de toestand van de cliënt. Zorg voor realistische en geleidelijke progressie die typisch is voor verpleeghuisclienten.\n",
        "- Vermijd het noemen van de naam van de client.\n",
        "\n",
        "{format_instructions}\n",
        "\"\"\"\n",
        "\n",
        "prompt_template = PromptTemplate(\n",
        "    template=template,\n",
        "    input_variables=[\"client_profile\", \"num_weeks\", \"complications\"],\n",
        "    partial_variables={\"format_instructions\": format_instructions},\n",
        ")\n",
        "\n",
        "if verbose:\n",
        "    print(prompt_template.format(client_profile=formatted_profile,\n",
        "                                 num_weeks = determine_duration(),\n",
        "                                 complications = sample_complications(complications_library)))\n"
      ]
    },
    {
      "cell_type": "code",
      "execution_count": 9,
      "metadata": {
        "id": "NdHaBX_taktA"
      },
      "outputs": [],
      "source": [
        "# Create a chain of operations: prompt template -> model -> output parser\n",
        "chain_scenario = prompt_template | model | pyd_parser"
      ]
    },
    {
      "cell_type": "code",
      "execution_count": null,
      "metadata": {
        "id": "T_QL3H8iz3Rv"
      },
      "outputs": [],
      "source": [
        "# Generate and save scenarios\n",
        "if not os.path.exists(fn_scenarios):\n",
        "    print(\"Data file not found. Generating new data...\")\n",
        "\n",
        "    scenario_list = []\n",
        "    with get_openai_callback() as cb:\n",
        "        for _, row in tqdm(df.iterrows(), total = df.shape[0], desc=\"Generating Scenario's\"):\n",
        "            # Format the client profile\n",
        "            client_profile = cpf.format_client_profile(\n",
        "                profile_row=row,\n",
        "            )\n",
        "\n",
        "            # Determine the number of weeks and complications for the scenario\n",
        "            num_weeks = determine_duration(mean=duration, std_dev=duration_sd)\n",
        "            complications = sample_complications(complications_library, min_n=num_complications_min, max_n=num_complications_max)\n",
        "\n",
        "            # Invoke the model.\n",
        "            # Errors are frequently due to incorrectly formatted responses, causing parsing errors. A simple retry often does the trick.\n",
        "            try:\n",
        "                result = chain_scenario.invoke({\"client_profile\": client_profile, \"num_weeks\": str(num_weeks), \"complications\": complications})\n",
        "            except Exception as e:\n",
        "                print(f\"Error encountered. Retrying...\")\n",
        "                result = chain_scenario.invoke({\"client_profile\": client_profile, \"num_weeks\": str(num_weeks), \"complications\": complications})\n",
        "                print(\"Retry successful\")\n",
        "\n",
        "            # Store the results in the scenario_list\n",
        "            for scenario in result.scenario:\n",
        "                scenario_list.append((row['client_id'], scenario.week, scenario.events_description, complications, num_weeks))\n",
        "        print(f\"Total cost: {cb.total_cost}\")\n",
        "\n",
        "        df_scenarios = pd.DataFrame(scenario_list, columns=['client_id', 'week', 'events_description', 'complications', 'num_weeks'])\n",
        "        df_scenarios.to_csv(fn_scenarios, index=False)\n",
        "        print(f\"Data saved successfully to {fn_scenarios}.\")\n",
        "else:\n",
        "    print(\"Data file found. Loading data...\")\n",
        "    df_scenarios = pd.read_csv(fn_scenarios)\n"
      ]
    },
    {
      "cell_type": "code",
      "execution_count": null,
      "metadata": {
        "id": "XXJDjLmTz3Rw"
      },
      "outputs": [],
      "source": [
        "if verbose:\n",
        "    print(\"Client Profile:\")\n",
        "    print(formatted_profile)\n",
        "    print(100 * '-')  # Divider for better readability\n",
        "\n",
        "    # Filter and display the scenarios for the selected client\n",
        "    client_scenarios = df_scenarios[df_scenarios['client_id'] == sample_client_id][['week', 'events_description']]\n",
        "    print(\"Client Scenarios:\")\n",
        "\n",
        "    # Loop through each scenario and print it with a numbered list\n",
        "    for index, scenario in enumerate(client_scenarios.itertuples(), 1):\n",
        "        print(f\"{index}. Week {scenario.week}: {scenario.events_description}\")"
      ]
    },
    {
      "cell_type": "code",
      "execution_count": null,
      "metadata": {
        "id": "Wv-PQcSJNAfU"
      },
      "outputs": [],
      "source": []
    }
  ],
  "metadata": {
    "colab": {
      "include_colab_link": true,
      "provenance": []
    },
    "kernelspec": {
      "display_name": "gcai",
      "language": "python",
      "name": "python3"
    },
    "language_info": {
      "codemirror_mode": {
        "name": "ipython",
        "version": 3
      },
      "file_extension": ".py",
      "mimetype": "text/x-python",
      "name": "python",
      "nbconvert_exporter": "python",
      "pygments_lexer": "ipython3",
      "version": "3.12.7"
    }
  },
  "nbformat": 4,
  "nbformat_minor": 0
}
