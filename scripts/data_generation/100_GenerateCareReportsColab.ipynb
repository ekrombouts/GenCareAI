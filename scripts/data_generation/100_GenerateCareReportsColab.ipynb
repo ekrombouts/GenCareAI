{
  "cells": [
    {
      "cell_type": "markdown",
      "metadata": {
        "id": "view-in-github",
        "colab_type": "text"
      },
      "source": [
        "<a href=\"https://colab.research.google.com/github/ekrombouts/GenCareAI/blob/main/scripts/data_generation/100_GenerateCareReportsColab.ipynb\" target=\"_parent\"><img src=\"https://colab.research.google.com/assets/colab-badge.svg\" alt=\"Open In Colab\"/></a>"
      ]
    },
    {
      "cell_type": "markdown",
      "metadata": {
        "id": "n5JZvWzwQlir"
      },
      "source": [
        "# GenCare AI: Synthetic Healthcare Data Generation\n",
        "\n",
        "**Author:** Eva Rombouts  \n",
        "**Date:** 2024-05-12  \n",
        "**Updated:** 2024-05-31  \n",
        "**Version:** 1.0\n",
        "\n",
        "### Description\n",
        "This script generates synthetic healthcare data for NLP experiments.  \n",
        "It utilizes OpenAI's models to create realistic, anonymized datasets that mimic real-world client records of nursing care homes for use in machine learning and data analysis.  \n",
        "The resulting [dataset](https://huggingface.co/datasets/ekrombouts/dutch_nursing_home_reports) can be found on HuggingFace.  \n",
        "\n",
        "### Setup\n",
        "- Ensure [OpenAI API key](https://platform.openai.com/docs/quickstart?context=python) is set in the environment or configuration file.\n",
        "- Google Drive must be mounted for file operations if running in Colab."
      ]
    },
    {
      "cell_type": "code",
      "execution_count": null,
      "metadata": {
        "id": "epo8rYlnRY5q"
      },
      "outputs": [],
      "source": [
        "# installation needed for CoLab\n",
        "!pip install -q openai"
      ]
    },
    {
      "cell_type": "code",
      "execution_count": null,
      "metadata": {
        "id": "vSNQLmnZQliu"
      },
      "outputs": [],
      "source": [
        "import pandas as pd\n",
        "import os\n",
        "from openai import OpenAI"
      ]
    },
    {
      "cell_type": "code",
      "execution_count": null,
      "metadata": {
        "id": "8cPXEyxLX5LN"
      },
      "outputs": [],
      "source": [
        "from google.colab import userdata\n",
        "OPENAI_API_KEY =userdata.get('GCI_OPENAI_API_KEY') # Set key in secret keys section in Colab"
      ]
    },
    {
      "cell_type": "code",
      "execution_count": null,
      "metadata": {
        "id": "XNyg3AKQX5LN"
      },
      "outputs": [],
      "source": [
        "from google.colab import drive\n",
        "drive.mount('/content/drive')"
      ]
    },
    {
      "cell_type": "code",
      "execution_count": null,
      "metadata": {
        "id": "sai1Iip5Qliv"
      },
      "outputs": [],
      "source": [
        "# Constants / variables\n",
        "SEED = 1 # To replicate my dataset, concat 6, 1610, 42 and 1\n",
        "MODEL = 'gpt-3.5-turbo-0125'\n",
        "TEMPERATURE = 1.1\n",
        "\n",
        "NUM_COMPLETIONS = 100 # Number of completions per query\n",
        "\n",
        "DATA_DIR = '/content/drive/My Drive/Colab Notebooks/GenCareAI/data'\n",
        "FN_REPORTS = os.path.join(DATA_DIR, 'gcai_reports.csv')"
      ]
    },
    {
      "cell_type": "code",
      "execution_count": null,
      "metadata": {
        "id": "AwfO4GFIQliv"
      },
      "outputs": [],
      "source": [
        "# System role, describes the assistant's behavior in a specific context\n",
        "SYSTEM_ROLE = '''\n",
        "Je bent een specialist in het genereren van fictieve data voor natural language processing projecten in de zorg.\n",
        "\n",
        "Je spreekt de taal van een niveau 3 verzorgende in het verpleeghuis.\n",
        "'''"
      ]
    },
    {
      "cell_type": "code",
      "execution_count": null,
      "metadata": {
        "id": "b0eix9QmQliw"
      },
      "outputs": [],
      "source": [
        "# Dictionary of user roles for different topics of the reports\n",
        "USER_ROLES = {\n",
        "        'ADL':\n",
        "        '''\n",
        "Dit zijn voorbeelden van rapportages over ADL:\n",
        "- Dhr. zijn haar gewassen en zijn baard geschoren.\n",
        "- Inco van mw, was verzadigd vanmorgen en bed was nat.\n",
        "- Het is niet goed gegaan Mw had een ongelukje met haar kleding en defeaceren Mw was incontinent Mw geholpen met opfrissen en de kleding in de was gedaan\n",
        "- U bent vanmorgen gedoucht, uw haren zijn gewassen.\n",
        "\n",
        "Andere rapportages kunnen bijvoorbeeld gaan over: wassen, aankleden, tanden poetsen, klaarmaken voor de dag, klaarmaken voor de nacht, douchen, gebitsprothese schoonmaken of hulp na incontinentie.\n",
        "\n",
        "Verzin 10 van zulke rapportages. Geef alleen de rapportages terug, gescheiden door \"\\n--- \". Varieer met de zinsopbouw en stijl.\n",
        "        ''',\n",
        "        'eten_drinken':\n",
        "        '''\n",
        "Dit zijn voorbeelden van rapportages over eten en drinken:\n",
        "- Ik kreeg van de dagdienst door dat dhr. zich verslikt in haar drinken. Drinken verdikt aangeboden. Dit ging goed.\n",
        "- Ochtendzorg verliep goed, dhr was wel zeer vermoeid. Dhr heeft goed gegeten en gedronken. Dhr is na de lunch op bed geholpen om te rusten.\n",
        "- Nee ik wil niet meer. ik vond niet lekker. Mw heeft ochtend goed gegeten en gedronken. tussen de middageten mw wilde niet. zij heeft paar hapjes vla gegeten en een glas limonade gedronken.\n",
        "- Mw heeft op bed een paar hapjes pap gegeten.\n",
        "- De fresubin creme is niet op voorraad. mw ipv de creme fresubin drink aanbieden Fresubin komt vogende week weer binnen.\n",
        "\n",
        "Andere rapportages kunnen bijvoorbeeld gaan over: wat de client wel of niet heeft gegeten, welke hulp nodig is bij eten (volledige hulp, aansporing, aangepast bestek of beker), verslikken, bijhouden vocht- en voedingslijst.\n",
        "\n",
        "Verzin 10 van zulke rapportages. Geef alleen de rapportages terug, gescheiden door \"\\n--- \". Varieer met de zinsopbouw en stijl.\n",
        "        ''',\n",
        "        'sociaal':\n",
        "        '''\n",
        "Dit zijn voorbeelden van rapportages over sociale interactie en activiteiten:\n",
        "- Mw. was goed gestemd vanavond en was heel gezellig aanwezig.\n",
        "- U keek naar de kerkdienst op buurt 4.\n",
        "- Dhr zit met verschillende medebewoners in de binnentuin.\n",
        "- Ik eet samen met mijn dochter. We gaan asperges eten.\n",
        "- Mw. ging haar gangetje. Ging vanmiddag naar een muziek activiteit.\n",
        "\n",
        "Andere rapportages kunnen bijvoorbeeld gaan over: Georganiseerde activiteiten, het krijgen van bezoek, bladeren door een tijdschriftje, interactie met medebewoners.\n",
        "\n",
        "Hou er rekening mee dat het gaat over rapportages van mensen in een verpleeghuis, met forse beperkingen, dus de sociale interactie en activiteiten zijn beperkt. Meestal betreft het gezelligheid, maar niet altijd.\n",
        "\n",
        "Verzin 10 van zulke rapportages. Geef alleen de rapportages terug, gescheiden door \"\\n--- \". Varieer met de zinsopbouw en stijl\n",
        "        ''',\n",
        "        'huid':\n",
        "        '''\n",
        "Dit zijn voorbeelden van rapportages over huid en wonden:\n",
        "- ik heb jeuk op mijn rug dhr behandeld met de cetomacrogol creme\n",
        "- Wat is dat allemaal? Dhr zat aan het verband om zijn arm te plukken. Wondje op arm is klein. Dhr ervaart het verband onprettig. Pleister op het wondje gedaan.\n",
        "- Dhr zijn liezen zagen er rustig uit. Dhr zijn scrotum ingesmeerd met licht zinkzalf, deze was wel rood. De liezen met beschermende zalf ingesmeerd.\n",
        "- Mevr. lijkt nu decubitus te ontwikkelen op haar stuit. Mevr. haar hiel verzorgd, dit zag er oke uit, klein beetje geel beslag. Dit schoongemaakt, daarna verbonden volgens plan Dit in de gaten houden.\n",
        "\n",
        "Andere rapportages kunnen bijvoorbeeld gaan over: oedeem, decubituswonden, ontvellingen, roodheid en jeuk van de huid. Te lange nagels, smetplekken.\n",
        "\n",
        "Verzin 10 van zulke rapportages. Geef alleen de rapportages terug, gescheiden door \"\\n--- \". Varieer met de zinsopbouw en stijl.\n",
        "        ''',\n",
        "        'medisch_logistiek':\n",
        "        '''\n",
        "Dit zijn voorbeelden van rapportages over medische zorg en familie communicatie:\n",
        "\n",
        "- Oren van mevr zijn uitgespoten er kwam uit beide oren veel viezigheid.\n",
        "- Graag Dhr morgen wegen\n",
        "- Arts vragen voor brutans 5 mg besteld\n",
        "- Dochter van dhr. belde. Ze gaf aan dat ze een aanbod hebben gekregen voor verblijf in een ander verpleeghuis.\n",
        "- Fam wil graag een gesprek over bezoek cardioloog in het verleden. Er is iets voorgeschreven, ws doorgegeven aan vorige arts. graag contact met familie opnemen voor gesprek of telefonisch gesprek In artsenvisite bespreken\n",
        "\n",
        "Andere rapportages kunnen bijvoorbeeld gaan over: zorgplan besprekingen, kleine medische klachten, verzoeken van familie, bestellen van medicijnen.\n",
        "\n",
        "Verzin 10 van zulke rapportages. Geef alleen de rapportages terug, gescheiden door \"\\n--- \". Varieer met de zinsopbouw en stijl.\n",
        "        ''',\n",
        "        'nachten':\n",
        "        '''\n",
        "Dit zijn voorbeelden van rapportages over nachten en slapen:\n",
        "\n",
        "- Mw. heeft de gehele nacht geslapen\n",
        "- Mw heeft vannacht niet zo goed geslapen. Mw was veel wakker en wat onrustig. Lastig om mw af te leiden en te zorgen dat mw weer wilde slapen. Mw heeft een slechte nachtrust gehad.\n",
        "- De sensor is de gehele nacht niet afgegaan bij mw\n",
        "- Dhr. ging rond 23:30 uur naar bed. Heeft de hele nacht geslapen.\n",
        "- Dhr. was klaarwakker en wilde uit bed en rammelde aan het bedhek. Dhr. vertelde dat hij opgehaald zou worden. Mw. heeft hem overtuigt om toch te gaan slapen en dhr. luisterde naar mw.\n",
        "\n",
        "Rapportages kunnen bijvoorbeeld gaan over: onrust en dwalen in de nacht, lekker slapen, toiletgang in de nacht, bellen, scheef in bed liggen.\n",
        "\n",
        "Verzin 10 van zulke rapportages. Geef alleen de rapportages terug, gescheiden door \"\\n--- \". Varieer met de zinsopbouw en stijl.\n",
        "        ''',\n",
        "        'onrust':\n",
        "        '''\n",
        "Dit zijn voorbeelden van rapportages over onrust, probleemgedrag, stemming:\n",
        "\n",
        "- Ga opzij. Wat ben jij lelijk Mw schopte naar een andere bewoner en wilde een ander bewoner slaan. Mw een prikkelarme omgeving aangeboden.\n",
        "- dhr eet de planten van tafel dhr werd begeleid door collega om het uit te spugen werd hier geagiteerd door.\n",
        "- Waar is het toilet Mag ik al eten Naar zorg toe lopen, zwaaien naar de zorg om hulp.  Mw vraagt veel bevestiging van de zorg,\n",
        "- Meneer is wat onrustig loopt jammerend heen en weer en zegt steeds erg moe te zijn. Heeft een trieste blijk in zijn ogen. Meneer aangeboden om naar bed te gaan, heeft hier geen rust voor.\n",
        "\n",
        "Rapportages kunnen bijvoorbeeld gaan over: agitatie, onrust, apathie, verwardheid.\n",
        "Meestal is de verwardheid subtiel, maar soms wat heftiger.\n",
        "\n",
        "Verzin 10 van zulke rapportages. Geef alleen de rapportages terug, gescheiden door \"\\n--- \". Varieer met de zinsopbouw en stijl.\n",
        "        ''',\n",
        "        'symptomen':\n",
        "        '''\n",
        "Dit zijn voorbeelden van rapportages over ziekte en symptomen:\n",
        "\n",
        "- Er zat iets vocht in beide voeten. Dhr had vandaag geen steunkousen aan Blijven observeren\n",
        "- Urine opvangen is tot nu toe nog niet gelukt(mw heeft er steeds def bij) Vanmiddag ook geen pijn gezien alleen evt wat frustratie als iets niet soepel loopt.\n",
        "- Ik heb pijn dhr gaf pijn aan aan zijn linker pink en ringvinger. Er zitten daar een soort bloedblaren al wel langer. Graag even in de gaten houden en rapporteren of dhr meer pijn krijgt.\n",
        "- Dhr. had om 6u zeer veel last van slijm en een vieze smaak in zijn mond. Dhr geassisteerd met het spoelen van zijn mond.\n",
        "- Erg pijnlijk bij de ADL. Morgen graag overleg met de arts over de pijnmedicatie\n",
        "- Dhr is erg benauwd, klinkt vol, heeft een reutelende ademhaling.\n",
        "\n",
        "Rapportages kunnen bijvoorbeeld gaan over: pijn, benauwdheid, misselijkheid, diarree, rugklachten, palliatieve zorg.\n",
        "Meestal zijn de klachtensubtiel, maar soms heftiger.\n",
        "\n",
        "Verzin 10 van zulke rapportages. Geef alleen de rapportages terug, gescheiden door \"\\n--- \". Varieer met de zinsopbouw en stijl.\n",
        "        ''',\n",
        "        'mobiliteit':\n",
        "        '''\n",
        "Dit zijn voorbeelden van rapportages over mobiliteit en transfers:\n",
        "\n",
        "- Vandaag geholpen met de passieve lift. Dit ging goed.\n",
        "- Veel rondgelopen vandaag. Mw vergeet steeds haar rollator.\n",
        "- De banden van de rolstoel zijn zacht. Kan de fysio hier naar kijken?\n",
        "- De transfers gaan steeds moeilijker. Mw hangt erg in de actieve lift. Glijdt weg. Wil graag nog met de actieve lift geholpen worden, maar dit gaat eigenlijk niet meer. @ Ergo, graag je advies\n",
        "\n",
        "Andere rapportages kunnen bijvoorbeeld gaan over: loophulpmiddelen, de rolstoel, valgevaar, valincidenten, transfers, tilliften.\n",
        "De meeste rapportages gaan over dagelijkse dingetjes, dus niet alles is een ernstig incident.\n",
        "\n",
        "Verzin 10 van zulke rapportages. Geef alleen de rapportages terug, gescheiden door \"\\n--- \". Varieer met de zinsopbouw en stijl.\n",
        "        '''\n",
        "}\n"
      ]
    },
    {
      "cell_type": "code",
      "execution_count": null,
      "metadata": {
        "id": "71HaLjO9X5LP"
      },
      "outputs": [],
      "source": [
        "def setup_openai_client():\n",
        "    \"\"\"Create an OpenAI client instance.\"\"\"\n",
        "    try:\n",
        "        client = OpenAI(api_key=OPENAI_API_KEY)\n",
        "        return client\n",
        "    except Exception as e:\n",
        "        print(f\"Failed to set up OpenAI client: {str(e)}\")\n",
        "        return None"
      ]
    },
    {
      "cell_type": "code",
      "execution_count": null,
      "metadata": {
        "id": "xclkstYaQlix"
      },
      "outputs": [],
      "source": [
        "def generate_healthcare_data(client, system_role, user_role, model, seed=None, temperature=1, n=1):\n",
        "    \"\"\"Generate synthetic healthcare data using the OpenAI API.\"\"\"\n",
        "    try:\n",
        "        completion = client.chat.completions.create(\n",
        "            model=model,\n",
        "            messages=[\n",
        "                {\"role\": \"system\", \"content\": system_role},\n",
        "                {\"role\": \"user\", \"content\": user_role}\n",
        "            ],\n",
        "            seed=seed,\n",
        "            temperature=temperature,\n",
        "            n=n\n",
        "        )\n",
        "        return completion\n",
        "    except Exception as e:\n",
        "        print(f\"An error occurred during data generation: {str(e)}\")\n",
        "        return None"
      ]
    },
    {
      "cell_type": "code",
      "execution_count": null,
      "metadata": {
        "id": "lONLlwuvX5LQ"
      },
      "outputs": [],
      "source": [
        "def parse_and_clean_reports(completions):\n",
        "    \"\"\"Parse and clean reports from OpenAI completions.\"\"\"\n",
        "    reports = []\n",
        "    for choice in completions.choices:\n",
        "        splits = choice.message.content.split('---')\n",
        "        for split in splits:\n",
        "            clean_report = split.strip().lstrip('-').strip()\n",
        "            if clean_report:\n",
        "                reports.append(clean_report)\n",
        "    return reports"
      ]
    },
    {
      "cell_type": "code",
      "execution_count": null,
      "metadata": {
        "id": "Jy__Vc2AX5LQ"
      },
      "outputs": [],
      "source": [
        "def save_reports(df, filename):\n",
        "    \"\"\"Save the DataFrame to a CSV file.\"\"\"\n",
        "    try:\n",
        "        df.to_csv(filename, index=False)\n",
        "        print(f\"Reports saved successfully to {filename}\")\n",
        "    except Exception as e:\n",
        "        print(f\"Failed to save reports: {str(e)}\")\n",
        "        return df  # Optionally return the DataFrame for further handling"
      ]
    },
    {
      "cell_type": "code",
      "execution_count": null,
      "metadata": {
        "id": "tRLxmlhZX5LQ"
      },
      "outputs": [],
      "source": [
        "def generate_and_collect_reports():\n",
        "    \"\"\"Main function to orchestrate data generation.\"\"\"\n",
        "    client = setup_openai_client()\n",
        "    if not client:\n",
        "        print(\"OpenAI client setup failed. Exiting...\")\n",
        "        return\n",
        "\n",
        "    all_reports = []\n",
        "    for topic, user_role in USER_ROLES.items():\n",
        "        print(f\"Generating reports for topic: {topic}\")\n",
        "        completion = generate_healthcare_data(client, SYSTEM_ROLE, user_role, MODEL, SEED, TEMPERATURE, NUM_COMPLETIONS)\n",
        "        if completion:\n",
        "            reports = parse_and_clean_reports(completion)\n",
        "            df = pd.DataFrame(reports, columns=['report'])\n",
        "            df['topic'] = topic\n",
        "            all_reports.append(df)\n",
        "        else:\n",
        "            print(f\"Failed to generate reports for topic: {topic}\")\n",
        "\n",
        "    return all_reports"
      ]
    },
    {
      "cell_type": "code",
      "source": [
        "all_reports = generate_and_collect_reports()"
      ],
      "metadata": {
        "id": "rfW7y5XabsoM"
      },
      "execution_count": null,
      "outputs": []
    },
    {
      "cell_type": "code",
      "source": [
        "df_all_reports = pd.concat(all_reports, ignore_index=True)\n",
        "saved_df = save_reports(df_all_reports, FN_REPORTS)"
      ],
      "metadata": {
        "id": "XUebxF2Sbgms"
      },
      "execution_count": null,
      "outputs": []
    },
    {
      "cell_type": "code",
      "execution_count": null,
      "metadata": {
        "id": "VslQYFv6Qliy"
      },
      "outputs": [],
      "source": [
        "# FN_REPORTS_TO_CONCAT = os.path.join(DATA_DIR, 'gcai_reports2.csv')\n",
        "# FN_REPORTS_CONCATENATED = os.path.join(DATA_DIR, 'gcai_reports_concatenated.csv')\n",
        "\n",
        "# df_reports_to_concat = pd.read_csv(FN_REPORTS_TO_CONCAT)\n",
        "\n",
        "# # Combine the DataFrames\n",
        "# df_reports_concatenated = pd.concat([df_all_reports, df_reports_to_concat])\n",
        "\n",
        "# # Save the concatenated DataFrame to a CSV file\n",
        "# df_reports_concatenated.to_csv(FN_REPORTS_CONCATENATED, index=False)"
      ]
    },
    {
      "cell_type": "code",
      "source": [],
      "metadata": {
        "id": "nY7KcpWJeVIY"
      },
      "execution_count": null,
      "outputs": []
    }
  ],
  "metadata": {
    "colab": {
      "provenance": [],
      "include_colab_link": true
    },
    "kernelspec": {
      "display_name": "nlp_env",
      "language": "python",
      "name": "python3"
    },
    "language_info": {
      "codemirror_mode": {
        "name": "ipython",
        "version": 3
      },
      "file_extension": ".py",
      "mimetype": "text/x-python",
      "name": "python",
      "nbconvert_exporter": "python",
      "pygments_lexer": "ipython3",
      "version": "3.11.5"
    }
  },
  "nbformat": 4,
  "nbformat_minor": 0
}
